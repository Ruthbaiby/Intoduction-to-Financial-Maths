{
 "cells": [
  {
   "cell_type": "markdown",
   "id": "digital-tuesday",
   "metadata": {
    "papermill": {
     "duration": 0.09631,
     "end_time": "2022-12-21T20:30:02.061663",
     "exception": false,
     "start_time": "2022-12-21T20:30:01.965353",
     "status": "completed"
    },
    "tags": []
   },
   "source": [
    "# Introduction To Financial Mathematics"
   ]
  },
  {
   "cell_type": "markdown",
   "id": "white-dealing",
   "metadata": {
    "papermill": {
     "duration": 0.090613,
     "end_time": "2022-12-21T20:30:02.244893",
     "exception": false,
     "start_time": "2022-12-21T20:30:02.154280",
     "status": "completed"
    },
    "tags": []
   },
   "source": [
    "This notebook will give you an introduction into core concepts in financial mathematics, along with formulas and Python implementations. You will learn how to calculate (compound) interest, price options, option trading strategies, option portfolio hedging and basic risk management calculations. Some concepts will look complex at first, but become clear once you learn the intuition behind it and compare the formulas to the code. Let's dive into financial mathematics!"
   ]
  },
  {
   "cell_type": "markdown",
   "id": "simplified-albuquerque",
   "metadata": {
    "papermill": {
     "duration": 0.091375,
     "end_time": "2022-12-21T20:30:02.428045",
     "exception": false,
     "start_time": "2022-12-21T20:30:02.336670",
     "status": "completed"
    },
    "tags": []
   },
   "source": [
    "## Dependencies"
   ]
  },
  {
   "cell_type": "markdown",
   "id": "demanding-seattle",
   "metadata": {
    "papermill": {
     "duration": 0.091664,
     "end_time": "2022-12-21T20:30:02.612918",
     "exception": false,
     "start_time": "2022-12-21T20:30:02.521254",
     "status": "completed"
    },
    "tags": []
   },
   "source": [
    "As we will code the concepts from scratch we will use only basic Python libraries:\n",
    "\n",
    "- NumPy for linear algebra\n",
    "- Matplotlib for visualization\n",
    "- Scipy for optimization and probability distributions."
   ]
  },
  {
   "cell_type": "code",
   "execution_count": 1,
   "id": "absolute-pharmacology",
   "metadata": {
    "execution": {
     "iopub.execute_input": "2022-12-21T20:30:02.806348Z",
     "iopub.status.busy": "2022-12-21T20:30:02.805323Z",
     "iopub.status.idle": "2022-12-21T20:30:03.638093Z",
     "shell.execute_reply": "2022-12-21T20:30:03.636651Z",
     "shell.execute_reply.started": "2021-11-18T14:37:41.305921Z"
    },
    "papermill": {
     "duration": 0.933361,
     "end_time": "2022-12-21T20:30:03.638310",
     "exception": false,
     "start_time": "2022-12-21T20:30:02.704949",
     "status": "completed"
    },
    "tags": []
   },
   "outputs": [],
   "source": [
    "import numpy as np\n",
    "import matplotlib.pyplot as plt \n",
    "from scipy.stats import norm\n",
    "from scipy.optimize import minimize"
   ]
  },
  {
   "cell_type": "markdown",
   "id": "western-grounds",
   "metadata": {
    "papermill": {
     "duration": 0.092313,
     "end_time": "2022-12-21T20:30:03.822852",
     "exception": false,
     "start_time": "2022-12-21T20:30:03.730539",
     "status": "completed"
    },
    "tags": []
   },
   "source": [
    "## Interest"
   ]
  },
  {
   "cell_type": "markdown",
   "id": "offensive-surgeon",
   "metadata": {
    "papermill": {
     "duration": 0.090832,
     "end_time": "2022-12-21T20:30:04.004534",
     "exception": false,
     "start_time": "2022-12-21T20:30:03.913702",
     "status": "completed"
    },
    "tags": []
   },
   "source": [
    "One of the most fundamental concepts in financial mathematics is interest. A lot of investments are judged on percentage-wise returns and how they compound over time (i.e. build interest on interest). Investments are often compared to a \"risk-free interest rate\" $r_f$. This is the baseline of what we can earn on capital without risking its loss. $r_f$ changes over time and can even become negative as we have seen in recent years. In practice, assets like [US Treasury bonds](https://en.wikipedia.org/wiki/United_States_Treasury_security) are often regarded as risk-free, even though default is technically possible. \n",
    "\n",
    "To calculate interest our input parameters are interest rate $r$, Present Value $PV$ and $n$ periods (often expressed in years). With these values we can calculate future value $FV$. \n",
    "\n",
    "By rewriting the equation we can also derive $PV$ from $FV$. Lastly, we can derive the needed interest $r$ if we know both the desired $PV$ and $FV$."
   ]
  },
  {
   "cell_type": "code",
   "execution_count": 3,
   "id": "whole-africa",
   "metadata": {
    "execution": {
     "iopub.execute_input": "2022-12-21T20:30:04.193151Z",
     "iopub.status.busy": "2022-12-21T20:30:04.192062Z",
     "iopub.status.idle": "2022-12-21T20:30:04.197989Z",
     "shell.execute_reply": "2022-12-21T20:30:04.197406Z",
     "shell.execute_reply.started": "2021-11-18T14:37:42.137855Z"
    },
    "papermill": {
     "duration": 0.100478,
     "end_time": "2022-12-21T20:30:04.198156",
     "exception": false,
     "start_time": "2022-12-21T20:30:04.097678",
     "status": "completed"
    },
    "tags": []
   },
   "outputs": [],
   "source": [
    "starting_capital = 1000 # PV\n",
    "r = 0.10 # 10% interest\n",
    "n = 5 # Years"
   ]
  },
  {
   "cell_type": "markdown",
   "id": "adaptive-regard",
   "metadata": {
    "papermill": {
     "duration": 0.094264,
     "end_time": "2022-12-21T20:30:04.386268",
     "exception": false,
     "start_time": "2022-12-21T20:30:04.292004",
     "status": "completed"
    },
    "tags": []
   },
   "source": [
    "### Simple interest\n",
    "\n",
    "The easiest calculations will be for a percentage interest without compounding.\n",
    "\n",
    "$FV = (1+rn)PV$\n",
    "\n",
    "$PV = \\frac{FV}{1+rn}$\n",
    "\n",
    "$r = \\frac{\\frac{FV}{PV} - 1}{n}$"
   ]
  },
  {
   "cell_type": "code",
   "execution_count": 4,
   "id": "absolute-offer",
   "metadata": {
    "execution": {
     "iopub.execute_input": "2022-12-21T20:30:04.577475Z",
     "iopub.status.busy": "2022-12-21T20:30:04.576471Z",
     "iopub.status.idle": "2022-12-21T20:30:04.579243Z",
     "shell.execute_reply": "2022-12-21T20:30:04.579737Z",
     "shell.execute_reply.started": "2021-11-18T14:37:42.144497Z"
    },
    "papermill": {
     "duration": 0.099812,
     "end_time": "2022-12-21T20:30:04.579980",
     "exception": false,
     "start_time": "2022-12-21T20:30:04.480168",
     "status": "completed"
    },
    "tags": []
   },
   "outputs": [],
   "source": [
    "def fv_simple(pv: float, r: float, n: int):\n",
    "    return (1+r*n)*pv\n",
    "\n",
    "def pv_simple(fv: float, r: float, n: int):\n",
    "    return fv / (1 + r * n)\n",
    "    \n",
    "def r_simple(pv: float, fv: float, n: int):\n",
    "    return (fv/pv - 1) /  n"
   ]
  },
  {
   "cell_type": "code",
   "execution_count": 5,
   "id": "least-ebony",
   "metadata": {
    "execution": {
     "iopub.execute_input": "2022-12-21T20:30:04.765472Z",
     "iopub.status.busy": "2022-12-21T20:30:04.764662Z",
     "iopub.status.idle": "2022-12-21T20:30:04.772665Z",
     "shell.execute_reply": "2022-12-21T20:30:04.773238Z",
     "shell.execute_reply.started": "2021-11-18T14:37:42.159184Z"
    },
    "papermill": {
     "duration": 0.10235,
     "end_time": "2022-12-21T20:30:04.773436",
     "exception": false,
     "start_time": "2022-12-21T20:30:04.671086",
     "status": "completed"
    },
    "tags": []
   },
   "outputs": [
    {
     "data": {
      "text/plain": [
       "1500.0"
      ]
     },
     "execution_count": 5,
     "metadata": {},
     "output_type": "execute_result"
    }
   ],
   "source": [
    "fv = fv_simple(starting_capital, r, n)\n",
    "fv"
   ]
  },
  {
   "cell_type": "code",
   "execution_count": 6,
   "id": "powered-memorabilia",
   "metadata": {
    "execution": {
     "iopub.execute_input": "2022-12-21T20:30:04.963485Z",
     "iopub.status.busy": "2022-12-21T20:30:04.962459Z",
     "iopub.status.idle": "2022-12-21T20:30:04.969711Z",
     "shell.execute_reply": "2022-12-21T20:30:04.969097Z",
     "shell.execute_reply.started": "2021-11-18T14:37:42.176805Z"
    },
    "papermill": {
     "duration": 0.102737,
     "end_time": "2022-12-21T20:30:04.969953",
     "exception": false,
     "start_time": "2022-12-21T20:30:04.867216",
     "status": "completed"
    },
    "tags": []
   },
   "outputs": [
    {
     "data": {
      "text/plain": [
       "1000.0"
      ]
     },
     "execution_count": 6,
     "metadata": {},
     "output_type": "execute_result"
    }
   ],
   "source": [
    "pv = pv_simple(fv, r, n)\n",
    "pv"
   ]
  },
  {
   "cell_type": "code",
   "execution_count": 7,
   "id": "female-wichita",
   "metadata": {
    "execution": {
     "iopub.execute_input": "2022-12-21T20:30:05.165774Z",
     "iopub.status.busy": "2022-12-21T20:30:05.164771Z",
     "iopub.status.idle": "2022-12-21T20:30:05.169216Z",
     "shell.execute_reply": "2022-12-21T20:30:05.168596Z",
     "shell.execute_reply.started": "2021-11-18T14:37:42.188145Z"
    },
    "papermill": {
     "duration": 0.105873,
     "end_time": "2022-12-21T20:30:05.169387",
     "exception": false,
     "start_time": "2022-12-21T20:30:05.063514",
     "status": "completed"
    },
    "tags": []
   },
   "outputs": [
    {
     "data": {
      "text/plain": [
       "0.1"
      ]
     },
     "execution_count": 7,
     "metadata": {},
     "output_type": "execute_result"
    }
   ],
   "source": [
    "r_simple(pv, fv, n)"
   ]
  },
  {
   "cell_type": "markdown",
   "id": "difficult-experiment",
   "metadata": {
    "papermill": {
     "duration": 0.092488,
     "end_time": "2022-12-21T20:30:05.354210",
     "exception": false,
     "start_time": "2022-12-21T20:30:05.261722",
     "status": "completed"
    },
    "tags": []
   },
   "source": [
    "### Compound Interest\n",
    "\n",
    "The simple formula above works for the case where we only get interest on the initial investment and does not take into account compound interest. The next equation takes compounding over $n$ periods into account. Note that this leads to a higher return."
   ]
  },
  {
   "cell_type": "markdown",
   "id": "parental-insight",
   "metadata": {
    "papermill": {
     "duration": 0.093323,
     "end_time": "2022-12-21T20:30:05.539653",
     "exception": false,
     "start_time": "2022-12-21T20:30:05.446330",
     "status": "completed"
    },
    "tags": []
   },
   "source": [
    "$FV = (1+r)^nPV$\n",
    "\n",
    "$PV = \\frac{FV}{(1+r)^n}$\n",
    "\n",
    "$r = \\sqrt[n]{\\frac{FV}{PV}} - 1$"
   ]
  },
  {
   "cell_type": "code",
   "execution_count": 8,
   "id": "established-astrology",
   "metadata": {
    "execution": {
     "iopub.execute_input": "2022-12-21T20:30:05.737383Z",
     "iopub.status.busy": "2022-12-21T20:30:05.736570Z",
     "iopub.status.idle": "2022-12-21T20:30:05.739128Z",
     "shell.execute_reply": "2022-12-21T20:30:05.739676Z",
     "shell.execute_reply.started": "2021-11-18T14:37:42.200815Z"
    },
    "papermill": {
     "duration": 0.103752,
     "end_time": "2022-12-21T20:30:05.739891",
     "exception": false,
     "start_time": "2022-12-21T20:30:05.636139",
     "status": "completed"
    },
    "tags": []
   },
   "outputs": [],
   "source": [
    "def fv_compound(pv, r: float, n: int):\n",
    "    return pv * (1+r)**n\n",
    "\n",
    "def pv_compound(fv: float, r: float, n: int):\n",
    "    return fv / (1 + r)**n\n",
    "\n",
    "def r_compound(pv: float, fv: float, n: int):\n",
    "    return (fv/pv)**(1/n) - 1"
   ]
  },
  {
   "cell_type": "code",
   "execution_count": 9,
   "id": "extraordinary-album",
   "metadata": {
    "execution": {
     "iopub.execute_input": "2022-12-21T20:30:05.928756Z",
     "iopub.status.busy": "2022-12-21T20:30:05.927990Z",
     "iopub.status.idle": "2022-12-21T20:30:05.932967Z",
     "shell.execute_reply": "2022-12-21T20:30:05.933536Z",
     "shell.execute_reply.started": "2021-11-18T14:37:42.213981Z"
    },
    "papermill": {
     "duration": 0.099492,
     "end_time": "2022-12-21T20:30:05.933716",
     "exception": false,
     "start_time": "2022-12-21T20:30:05.834224",
     "status": "completed"
    },
    "tags": []
   },
   "outputs": [
    {
     "data": {
      "text/plain": [
       "1610.5100000000004"
      ]
     },
     "execution_count": 9,
     "metadata": {},
     "output_type": "execute_result"
    }
   ],
   "source": [
    "fv = fv_compound(starting_capital, r, n)\n",
    "fv"
   ]
  },
  {
   "cell_type": "code",
   "execution_count": 10,
   "id": "moving-inspiration",
   "metadata": {
    "execution": {
     "iopub.execute_input": "2022-12-21T20:30:06.121408Z",
     "iopub.status.busy": "2022-12-21T20:30:06.120662Z",
     "iopub.status.idle": "2022-12-21T20:30:06.126322Z",
     "shell.execute_reply": "2022-12-21T20:30:06.126926Z",
     "shell.execute_reply.started": "2021-11-18T14:37:42.229968Z"
    },
    "papermill": {
     "duration": 0.101762,
     "end_time": "2022-12-21T20:30:06.127121",
     "exception": false,
     "start_time": "2022-12-21T20:30:06.025359",
     "status": "completed"
    },
    "tags": []
   },
   "outputs": [
    {
     "data": {
      "text/plain": [
       "999.9999999999999"
      ]
     },
     "execution_count": 10,
     "metadata": {},
     "output_type": "execute_result"
    }
   ],
   "source": [
    "pv = pv_compound(fv, r, n)\n",
    "pv"
   ]
  },
  {
   "cell_type": "code",
   "execution_count": 11,
   "id": "consecutive-blend",
   "metadata": {
    "execution": {
     "iopub.execute_input": "2022-12-21T20:30:06.316353Z",
     "iopub.status.busy": "2022-12-21T20:30:06.315565Z",
     "iopub.status.idle": "2022-12-21T20:30:06.322390Z",
     "shell.execute_reply": "2022-12-21T20:30:06.321689Z",
     "shell.execute_reply.started": "2021-11-18T14:37:42.241825Z"
    },
    "papermill": {
     "duration": 0.102682,
     "end_time": "2022-12-21T20:30:06.322542",
     "exception": false,
     "start_time": "2022-12-21T20:30:06.219860",
     "status": "completed"
    },
    "tags": []
   },
   "outputs": [
    {
     "data": {
      "text/plain": [
       "0.10000000000000009"
      ]
     },
     "execution_count": 11,
     "metadata": {},
     "output_type": "execute_result"
    }
   ],
   "source": [
    "r_compound(pv, fv, n)"
   ]
  },
  {
   "cell_type": "markdown",
   "id": "japanese-eclipse",
   "metadata": {
    "papermill": {
     "duration": 0.093374,
     "end_time": "2022-12-21T20:30:06.509553",
     "exception": false,
     "start_time": "2022-12-21T20:30:06.416179",
     "status": "completed"
    },
    "tags": []
   },
   "source": [
    "### Periodic Interest\n",
    "\n",
    "In some cases we receive interest more than once a year, for example every month. To take this into account we introduce a parameter $m$ that indicates how many times a year we receive the interest. The higher $m$ is, the faster our investment can compound."
   ]
  },
  {
   "cell_type": "markdown",
   "id": "final-probe",
   "metadata": {
    "papermill": {
     "duration": 0.09601,
     "end_time": "2022-12-21T20:30:06.702338",
     "exception": false,
     "start_time": "2022-12-21T20:30:06.606328",
     "status": "completed"
    },
    "tags": []
   },
   "source": [
    "$FV = (1 + \\frac{r}{m})^{mn}PV$\n",
    "\n",
    "$PV = \\frac{FV}{(1 + \\frac{r}{m})^{mn}}$\n",
    "\n",
    "$r = (\\sqrt[mn]{\\frac{FV}{PV}} - 1)m$"
   ]
  },
  {
   "cell_type": "code",
   "execution_count": 12,
   "id": "polar-nation",
   "metadata": {
    "execution": {
     "iopub.execute_input": "2022-12-21T20:30:06.897978Z",
     "iopub.status.busy": "2022-12-21T20:30:06.897080Z",
     "iopub.status.idle": "2022-12-21T20:30:06.900330Z",
     "shell.execute_reply": "2022-12-21T20:30:06.899766Z",
     "shell.execute_reply.started": "2021-11-18T14:37:42.255944Z"
    },
    "papermill": {
     "duration": 0.101361,
     "end_time": "2022-12-21T20:30:06.900490",
     "exception": false,
     "start_time": "2022-12-21T20:30:06.799129",
     "status": "completed"
    },
    "tags": []
   },
   "outputs": [],
   "source": [
    "m = 12 # Monthly compounding"
   ]
  },
  {
   "cell_type": "code",
   "execution_count": 13,
   "id": "designing-jason",
   "metadata": {
    "execution": {
     "iopub.execute_input": "2022-12-21T20:30:07.096291Z",
     "iopub.status.busy": "2022-12-21T20:30:07.095416Z",
     "iopub.status.idle": "2022-12-21T20:30:07.098208Z",
     "shell.execute_reply": "2022-12-21T20:30:07.098942Z",
     "shell.execute_reply.started": "2021-11-18T14:37:42.270932Z"
    },
    "papermill": {
     "duration": 0.105332,
     "end_time": "2022-12-21T20:30:07.099192",
     "exception": false,
     "start_time": "2022-12-21T20:30:06.993860",
     "status": "completed"
    },
    "tags": []
   },
   "outputs": [],
   "source": [
    "def fv_interval(pv: float, r: float, n: int, m: int):\n",
    "    return ((1 + r / m)**(m * n)) * pv\n",
    "\n",
    "def pv_interval(fv: float, r: float, n: int, m: int):\n",
    "    return fv / (1+r/m)**(m*n)\n",
    "\n",
    "def r_interval(pv: float, fv: float, n: int, m: int):\n",
    "    return ((fv / pv)**(1/(m*n)) - 1)* m"
   ]
  },
  {
   "cell_type": "code",
   "execution_count": 14,
   "id": "egyptian-analysis",
   "metadata": {
    "execution": {
     "iopub.execute_input": "2022-12-21T20:30:07.348551Z",
     "iopub.status.busy": "2022-12-21T20:30:07.347724Z",
     "iopub.status.idle": "2022-12-21T20:30:07.352771Z",
     "shell.execute_reply": "2022-12-21T20:30:07.353412Z",
     "shell.execute_reply.started": "2021-11-18T14:37:42.285328Z"
    },
    "papermill": {
     "duration": 0.159391,
     "end_time": "2022-12-21T20:30:07.353593",
     "exception": false,
     "start_time": "2022-12-21T20:30:07.194202",
     "status": "completed"
    },
    "tags": []
   },
   "outputs": [
    {
     "data": {
      "text/plain": [
       "1645.3089347785854"
      ]
     },
     "execution_count": 14,
     "metadata": {},
     "output_type": "execute_result"
    }
   ],
   "source": [
    "fv = fv_interval(starting_capital, r, n, m)\n",
    "fv"
   ]
  },
  {
   "cell_type": "code",
   "execution_count": 15,
   "id": "corresponding-patio",
   "metadata": {
    "execution": {
     "iopub.execute_input": "2022-12-21T20:30:07.547392Z",
     "iopub.status.busy": "2022-12-21T20:30:07.546599Z",
     "iopub.status.idle": "2022-12-21T20:30:07.553370Z",
     "shell.execute_reply": "2022-12-21T20:30:07.553875Z",
     "shell.execute_reply.started": "2021-11-18T14:37:42.301507Z"
    },
    "papermill": {
     "duration": 0.104471,
     "end_time": "2022-12-21T20:30:07.554080",
     "exception": false,
     "start_time": "2022-12-21T20:30:07.449609",
     "status": "completed"
    },
    "tags": []
   },
   "outputs": [
    {
     "data": {
      "text/plain": [
       "1000.0"
      ]
     },
     "execution_count": 15,
     "metadata": {},
     "output_type": "execute_result"
    }
   ],
   "source": [
    "pv = pv_interval(fv, r, n, m)\n",
    "pv"
   ]
  },
  {
   "cell_type": "code",
   "execution_count": 16,
   "id": "falling-kitchen",
   "metadata": {
    "execution": {
     "iopub.execute_input": "2022-12-21T20:30:07.747200Z",
     "iopub.status.busy": "2022-12-21T20:30:07.746141Z",
     "iopub.status.idle": "2022-12-21T20:30:07.752408Z",
     "shell.execute_reply": "2022-12-21T20:30:07.752896Z",
     "shell.execute_reply.started": "2021-11-18T14:37:42.315543Z"
    },
    "papermill": {
     "duration": 0.104514,
     "end_time": "2022-12-21T20:30:07.753095",
     "exception": false,
     "start_time": "2022-12-21T20:30:07.648581",
     "status": "completed"
    },
    "tags": []
   },
   "outputs": [
    {
     "data": {
      "text/plain": [
       "0.09999999999999964"
      ]
     },
     "execution_count": 16,
     "metadata": {},
     "output_type": "execute_result"
    }
   ],
   "source": [
    "r_interval(pv, fv, n, m)"
   ]
  },
  {
   "cell_type": "markdown",
   "id": "specific-fruit",
   "metadata": {
    "papermill": {
     "duration": 0.096225,
     "end_time": "2022-12-21T20:30:07.946048",
     "exception": false,
     "start_time": "2022-12-21T20:30:07.849823",
     "status": "completed"
    },
    "tags": []
   },
   "source": [
    "### Continuous Interest\n",
    "\n",
    "As $m$ goes to infinity ($\\underset{m \\to \\infty}{lim}$) we encounter the notion of \"continuous compounding\". While this notion sounds abstract, continuous compounding is an important concept for financial theory and models that treat financial time series as continuous."
   ]
  },
  {
   "cell_type": "markdown",
   "id": "maritime-welding",
   "metadata": {
    "papermill": {
     "duration": 0.096453,
     "end_time": "2022-12-21T20:30:08.138980",
     "exception": false,
     "start_time": "2022-12-21T20:30:08.042527",
     "status": "completed"
    },
    "tags": []
   },
   "source": [
    "$FV = e^{rn}PV$\n",
    "\n",
    "$PV = \\frac{FV}{e^{rn}}$\n",
    "\n",
    "$r = \\frac{ln(\\frac{FV}{PV})}{n}$"
   ]
  },
  {
   "cell_type": "code",
   "execution_count": 17,
   "id": "popular-little",
   "metadata": {
    "execution": {
     "iopub.execute_input": "2022-12-21T20:30:08.337200Z",
     "iopub.status.busy": "2022-12-21T20:30:08.336130Z",
     "iopub.status.idle": "2022-12-21T20:30:08.341942Z",
     "shell.execute_reply": "2022-12-21T20:30:08.342487Z",
     "shell.execute_reply.started": "2021-11-18T14:37:42.33041Z"
    },
    "papermill": {
     "duration": 0.106383,
     "end_time": "2022-12-21T20:30:08.342677",
     "exception": false,
     "start_time": "2022-12-21T20:30:08.236294",
     "status": "completed"
    },
    "tags": []
   },
   "outputs": [],
   "source": [
    "def fv_continuous(pv: float, r: float, n: int):\n",
    "    return np.exp(r * n) * pv\n",
    "\n",
    "def pv_continuous(fv: float, r: float, n: int):\n",
    "    return fv / np.exp(r * n)\n",
    "\n",
    "def r_continuous(pv: float, fv: float, n: int):\n",
    "    return np.log(fv/pv) / n"
   ]
  },
  {
   "cell_type": "code",
   "execution_count": 18,
   "id": "settled-letter",
   "metadata": {
    "execution": {
     "iopub.execute_input": "2022-12-21T20:30:08.535704Z",
     "iopub.status.busy": "2022-12-21T20:30:08.534539Z",
     "iopub.status.idle": "2022-12-21T20:30:08.541715Z",
     "shell.execute_reply": "2022-12-21T20:30:08.541048Z",
     "shell.execute_reply.started": "2021-11-18T14:37:42.34039Z"
    },
    "papermill": {
     "duration": 0.105397,
     "end_time": "2022-12-21T20:30:08.541885",
     "exception": false,
     "start_time": "2022-12-21T20:30:08.436488",
     "status": "completed"
    },
    "tags": []
   },
   "outputs": [
    {
     "data": {
      "text/plain": [
       "1648.7212707001281"
      ]
     },
     "execution_count": 18,
     "metadata": {},
     "output_type": "execute_result"
    }
   ],
   "source": [
    "fv = fv_continuous(starting_capital, r, n)\n",
    "fv"
   ]
  },
  {
   "cell_type": "code",
   "execution_count": 19,
   "id": "normal-january",
   "metadata": {
    "execution": {
     "iopub.execute_input": "2022-12-21T20:30:08.745696Z",
     "iopub.status.busy": "2022-12-21T20:30:08.744964Z",
     "iopub.status.idle": "2022-12-21T20:30:08.750541Z",
     "shell.execute_reply": "2022-12-21T20:30:08.751100Z",
     "shell.execute_reply.started": "2021-11-18T14:37:42.353621Z"
    },
    "papermill": {
     "duration": 0.104829,
     "end_time": "2022-12-21T20:30:08.751319",
     "exception": false,
     "start_time": "2022-12-21T20:30:08.646490",
     "status": "completed"
    },
    "tags": []
   },
   "outputs": [
    {
     "data": {
      "text/plain": [
       "1000.0"
      ]
     },
     "execution_count": 19,
     "metadata": {},
     "output_type": "execute_result"
    }
   ],
   "source": [
    "pv = pv_continuous(fv, r, n)\n",
    "pv"
   ]
  },
  {
   "cell_type": "code",
   "execution_count": 20,
   "id": "coordinated-gilbert",
   "metadata": {
    "execution": {
     "iopub.execute_input": "2022-12-21T20:30:08.946593Z",
     "iopub.status.busy": "2022-12-21T20:30:08.945867Z",
     "iopub.status.idle": "2022-12-21T20:30:08.951547Z",
     "shell.execute_reply": "2022-12-21T20:30:08.952198Z",
     "shell.execute_reply.started": "2021-11-18T14:37:42.366531Z"
    },
    "papermill": {
     "duration": 0.105128,
     "end_time": "2022-12-21T20:30:08.952432",
     "exception": false,
     "start_time": "2022-12-21T20:30:08.847304",
     "status": "completed"
    },
    "tags": []
   },
   "outputs": [
    {
     "data": {
      "text/plain": [
       "0.1"
      ]
     },
     "execution_count": 20,
     "metadata": {},
     "output_type": "execute_result"
    }
   ],
   "source": [
    "r_continuous(pv, fv, n)"
   ]
  },
  {
   "cell_type": "markdown",
   "id": "satisfactory-inspection",
   "metadata": {
    "papermill": {
     "duration": 0.096747,
     "end_time": "2022-12-21T20:30:09.146464",
     "exception": false,
     "start_time": "2022-12-21T20:30:09.049717",
     "status": "completed"
    },
    "tags": []
   },
   "source": [
    "### Interest with periodic deposit\n",
    "\n",
    "In practical scenarios we periodically add money to our investment. This practice is also popularly known as [Dollar-Cost Averaging (DCA)](https://www.investopedia.com/terms/d/dollarcostaveraging.asp). We define $A$ as the amount we periodically add and augment our periodic interest equation to account for this."
   ]
  },
  {
   "cell_type": "markdown",
   "id": "amino-simpson",
   "metadata": {
    "papermill": {
     "duration": 0.09564,
     "end_time": "2022-12-21T20:30:09.338640",
     "exception": false,
     "start_time": "2022-12-21T20:30:09.243000",
     "status": "completed"
    },
    "tags": []
   },
   "source": [
    "$FV = \\frac{A}{r/m}((1 + \\frac{r}{m})^{mn} - 1)$\n",
    "\n",
    "$PV = \\frac{A}{r/m}(1 - \\frac{1}{(1+r/m)^{mn}})$"
   ]
  },
  {
   "cell_type": "code",
   "execution_count": 21,
   "id": "round-conversion",
   "metadata": {
    "execution": {
     "iopub.execute_input": "2022-12-21T20:30:09.535502Z",
     "iopub.status.busy": "2022-12-21T20:30:09.534773Z",
     "iopub.status.idle": "2022-12-21T20:30:09.538637Z",
     "shell.execute_reply": "2022-12-21T20:30:09.538048Z",
     "shell.execute_reply.started": "2021-11-18T14:37:42.37988Z"
    },
    "papermill": {
     "duration": 0.104849,
     "end_time": "2022-12-21T20:30:09.538825",
     "exception": false,
     "start_time": "2022-12-21T20:30:09.433976",
     "status": "completed"
    },
    "tags": []
   },
   "outputs": [],
   "source": [
    "A = 100. # Monthly added deposit"
   ]
  },
  {
   "cell_type": "code",
   "execution_count": 22,
   "id": "spatial-moscow",
   "metadata": {
    "execution": {
     "iopub.execute_input": "2022-12-21T20:30:09.737453Z",
     "iopub.status.busy": "2022-12-21T20:30:09.736635Z",
     "iopub.status.idle": "2022-12-21T20:30:09.739471Z",
     "shell.execute_reply": "2022-12-21T20:30:09.740078Z",
     "shell.execute_reply.started": "2021-11-18T14:37:42.390337Z"
    },
    "papermill": {
     "duration": 0.105456,
     "end_time": "2022-12-21T20:30:09.740287",
     "exception": false,
     "start_time": "2022-12-21T20:30:09.634831",
     "status": "completed"
    },
    "tags": []
   },
   "outputs": [],
   "source": [
    "def fv_with_deposit(r: float, n: int, m: int, a: float):\n",
    "    return (a / (r/m)) * ((1 + r/m)**(m*n) - 1)\n",
    "\n",
    "def pv_with_deposit(r: float, n: int, m: int, a: float):\n",
    "    return (a / (r/m)) * (1 - 1 / (1 + r / m)**(m*n))"
   ]
  },
  {
   "cell_type": "code",
   "execution_count": 23,
   "id": "involved-exemption",
   "metadata": {
    "execution": {
     "iopub.execute_input": "2022-12-21T20:30:09.940236Z",
     "iopub.status.busy": "2022-12-21T20:30:09.939434Z",
     "iopub.status.idle": "2022-12-21T20:30:09.942945Z",
     "shell.execute_reply": "2022-12-21T20:30:09.943676Z",
     "shell.execute_reply.started": "2021-11-18T14:37:42.40207Z"
    },
    "papermill": {
     "duration": 0.104837,
     "end_time": "2022-12-21T20:30:09.943890",
     "exception": false,
     "start_time": "2022-12-21T20:30:09.839053",
     "status": "completed"
    },
    "tags": []
   },
   "outputs": [
    {
     "data": {
      "text/plain": [
       "7743.707217343025"
      ]
     },
     "execution_count": 23,
     "metadata": {},
     "output_type": "execute_result"
    }
   ],
   "source": [
    "fv = fv_with_deposit(r, n, m, A)\n",
    "fv"
   ]
  },
  {
   "cell_type": "code",
   "execution_count": 24,
   "id": "impressed-cable",
   "metadata": {
    "execution": {
     "iopub.execute_input": "2022-12-21T20:30:10.140697Z",
     "iopub.status.busy": "2022-12-21T20:30:10.139833Z",
     "iopub.status.idle": "2022-12-21T20:30:10.145954Z",
     "shell.execute_reply": "2022-12-21T20:30:10.146543Z",
     "shell.execute_reply.started": "2021-11-18T14:37:42.418448Z"
    },
    "papermill": {
     "duration": 0.106382,
     "end_time": "2022-12-21T20:30:10.146741",
     "exception": false,
     "start_time": "2022-12-21T20:30:10.040359",
     "status": "completed"
    },
    "tags": []
   },
   "outputs": [
    {
     "data": {
      "text/plain": [
       "4706.536902375188"
      ]
     },
     "execution_count": 24,
     "metadata": {},
     "output_type": "execute_result"
    }
   ],
   "source": [
    "pv_with_deposit(r, n, m, A)"
   ]
  },
  {
   "cell_type": "markdown",
   "id": "typical-ghost",
   "metadata": {
    "papermill": {
     "duration": 0.09547,
     "end_time": "2022-12-21T20:30:10.337848",
     "exception": false,
     "start_time": "2022-12-21T20:30:10.242378",
     "status": "completed"
    },
    "tags": []
   },
   "source": [
    "## Options"
   ]
  },
  {
   "cell_type": "markdown",
   "id": "early-raising",
   "metadata": {
    "papermill": {
     "duration": 0.09754,
     "end_time": "2022-12-21T20:30:10.530661",
     "exception": false,
     "start_time": "2022-12-21T20:30:10.433121",
     "status": "completed"
    },
    "tags": []
   },
   "source": [
    "An option is a financial derivative that gives you the right, but not the obligation, to buy some underlying asset like a stock.\n",
    "\n",
    "Derivatives are financial products that derive their value based on some underlying asset. Common parameters that are important for this valuation are:\n",
    "- Underlying asset price\n",
    "- Volatility of underlying asset (standard deviation)\n",
    "- Time until expiration of derivative\n",
    "- Strike price (A cut-off value for option that are introduced in the following sections)\n",
    "- Risk-free interest rate\n",
    "\n",
    "In this notebook we will analyze European options, which give the buyer the right to buy or sell a certain stock for a given price on a certain date. An option for buying is called a [Call option](https://www.investopedia.com/terms/c/calloption.asp). The right to sell is called a [Put option](https://www.investopedia.com/terms/p/putoption.asp). "
   ]
  },
  {
   "cell_type": "markdown",
   "id": "missing-regard",
   "metadata": {
    "papermill": {
     "duration": 0.09571,
     "end_time": "2022-12-21T20:30:10.724532",
     "exception": false,
     "start_time": "2022-12-21T20:30:10.628822",
     "status": "completed"
    },
    "tags": []
   },
   "source": [
    "There are two popular ways to determine the price of an option:\n",
    "1. Binomial Lattice\n",
    "2. Black-Scholes\n",
    "\n",
    "The mathematics and calculation of Black-Scholes is more involved so we start with explaining how a binomial lattice works."
   ]
  },
  {
   "cell_type": "markdown",
   "id": "herbal-coverage",
   "metadata": {
    "papermill": {
     "duration": 0.094908,
     "end_time": "2022-12-21T20:30:10.916031",
     "exception": false,
     "start_time": "2022-12-21T20:30:10.821123",
     "status": "completed"
    },
    "tags": []
   },
   "source": [
    "## Binomial Lattice (European Call option)"
   ]
  },
  {
   "cell_type": "markdown",
   "id": "careful-suffering",
   "metadata": {
    "papermill": {
     "duration": 0.096325,
     "end_time": "2022-12-21T20:30:11.108524",
     "exception": false,
     "start_time": "2022-12-21T20:30:11.012199",
     "status": "completed"
    },
    "tags": []
   },
   "source": [
    "The binomial lattice model simplifies pricing by assuming a stock either goes up or down a certain amount in a time-period. We assume the price of a stock follows a random path. Each node in the lattice will represent the possible stock price at a given point in time. We then recursively compute time-steps until we can compute the fair price of an option. Like with interest calculations, everything is discounted over time using a risk-free interest rate $r$.\n",
    "The price will mainly be based on $K$ (Strike price) and $S$ = (Stock price at start)"
   ]
  },
  {
   "cell_type": "markdown",
   "id": "identified-slovak",
   "metadata": {
    "papermill": {
     "duration": 0.096847,
     "end_time": "2022-12-21T20:30:11.301585",
     "exception": false,
     "start_time": "2022-12-21T20:30:11.204738",
     "status": "completed"
    },
    "tags": []
   },
   "source": [
    "We assume for each time-period a stock goes up or down a certain percentage. These movements are defined by $u$ (Up scenario) and $d$ (Down scenario), where $u > 1$ and $d < 1$. How far a stock can move will depend on the volatility $\\sigma$ and the time-period $\\Delta t$.\n",
    "\n",
    "$u = e^{\\sigma \\sqrt{\\Delta}t}$\n",
    "\n",
    "$d = e^{-\\sigma \\sqrt{\\Delta}t}$"
   ]
  },
  {
   "cell_type": "code",
   "execution_count": 25,
   "id": "bright-sleep",
   "metadata": {
    "execution": {
     "iopub.execute_input": "2022-12-21T20:30:11.498071Z",
     "iopub.status.busy": "2022-12-21T20:30:11.497393Z",
     "iopub.status.idle": "2022-12-21T20:30:11.505427Z",
     "shell.execute_reply": "2022-12-21T20:30:11.506001Z",
     "shell.execute_reply.started": "2021-11-18T14:37:42.42985Z"
    },
    "papermill": {
     "duration": 0.108119,
     "end_time": "2022-12-21T20:30:11.506213",
     "exception": false,
     "start_time": "2022-12-21T20:30:11.398094",
     "status": "completed"
    },
    "tags": []
   },
   "outputs": [],
   "source": [
    "var = 0.2 # Variance\n",
    "sigma = np.sqrt(var) # Standard deviation\n",
    "S = 44 # Stock price\n",
    "K = 45 # Strike price\n",
    "T = 2/12 # Time period (two months = two steps)\n",
    "r = 0.06 # Risk-free interest rate\n",
    "delta_t = 1/12 # time-steps of one month\n",
    "R = np.exp(r * delta_t) # Discounted interest\n",
    "\n",
    "u = np.exp(sigma*np.sqrt(delta_t)) # Up scenario\n",
    "d = np.exp(-sigma*np.sqrt(delta_t)) # Down scenario\n",
    "\n",
    "def price_binomial(R, Pu, Pd, u, d):\n",
    "    \"\"\" Compute option price for a step \"\"\"\n",
    "    q = (R-d)/(u-d)\n",
    "    return (1/R) * (q * Pu + (1-q)*Pd)"
   ]
  },
  {
   "cell_type": "markdown",
   "id": "completed-emperor",
   "metadata": {
    "papermill": {
     "duration": 0.105782,
     "end_time": "2022-12-21T20:30:11.724177",
     "exception": false,
     "start_time": "2022-12-21T20:30:11.618395",
     "status": "completed"
    },
    "tags": []
   },
   "source": [
    "### Two-step call option price"
   ]
  },
  {
   "cell_type": "markdown",
   "id": "superior-hammer",
   "metadata": {
    "papermill": {
     "duration": 0.095677,
     "end_time": "2022-12-21T20:30:11.915699",
     "exception": false,
     "start_time": "2022-12-21T20:30:11.820022",
     "status": "completed"
    },
    "tags": []
   },
   "source": [
    "As a simple example we compute the price of a call option based on two steps of one month. This requires us to start at the end of the tree and compute $C_{ud}$ (One up scenario and one down), $C_{uu}$ (Two times down) and $C_{dd}$ (Two times up). These are all the possible scenarios after two time steps. We then use the result to compute $C_u$ and $C_d$, which are all the scenarios after one step. After this we can finally calculate $C$, which denotes the fair price of an option given all possible scenarios. Note that this setup is very simple and does not reflect reality where many other scenarios can happen. Still, the Binomial lattice gives us a good indication on how much an option if worth. Professional option traders will run software with many more time-steps and run the calculations for various values of $u$ and $d$."
   ]
  },
  {
   "cell_type": "markdown",
   "id": "tutorial-hampshire",
   "metadata": {
    "papermill": {
     "duration": 0.09601,
     "end_time": "2022-12-21T20:30:12.106569",
     "exception": false,
     "start_time": "2022-12-21T20:30:12.010559",
     "status": "completed"
    },
    "tags": []
   },
   "source": [
    "$C_{ud} = max\\{Sud - K, 0\\}$\n",
    "\n",
    "$C_{uu} = max\\{Su^2 - K, 0\\}$\n",
    "\n",
    "$C_{dd} = max\\{Sd^2 - K, 0\\}$"
   ]
  },
  {
   "cell_type": "code",
   "execution_count": 26,
   "id": "surprising-baker",
   "metadata": {
    "execution": {
     "iopub.execute_input": "2022-12-21T20:30:12.301331Z",
     "iopub.status.busy": "2022-12-21T20:30:12.300540Z",
     "iopub.status.idle": "2022-12-21T20:30:12.305732Z",
     "shell.execute_reply": "2022-12-21T20:30:12.306345Z",
     "shell.execute_reply.started": "2021-11-18T14:37:42.442041Z"
    },
    "papermill": {
     "duration": 0.104652,
     "end_time": "2022-12-21T20:30:12.306550",
     "exception": false,
     "start_time": "2022-12-21T20:30:12.201898",
     "status": "completed"
    },
    "tags": []
   },
   "outputs": [],
   "source": [
    "c_ud = np.maximum(0, u * d * S - K)\n",
    "c_uu = np.maximum(0, u**2 * S - K)\n",
    "c_dd = np.maximum(0, d**2 * S - K)"
   ]
  },
  {
   "cell_type": "markdown",
   "id": "useful-thread",
   "metadata": {
    "papermill": {
     "duration": 0.097473,
     "end_time": "2022-12-21T20:30:12.500476",
     "exception": false,
     "start_time": "2022-12-21T20:30:12.403003",
     "status": "completed"
    },
    "tags": []
   },
   "source": [
    "$C_u = \\frac{1}{R}(q C_{uu} + (1-q)C_{ud})$\n",
    "\n",
    "$C_d = \\frac{1}{R}(q C_{ud} + (1-q)C_{dd})$\n",
    "\n",
    "$C = \\frac{1}{R}(q C_{u} + (1-q)C_{d})$\n",
    "\n",
    "\n",
    "where $q = \\frac{R - d}{u - d}$ and $R = e^{r \\Delta t}$."
   ]
  },
  {
   "cell_type": "code",
   "execution_count": 27,
   "id": "fancy-delhi",
   "metadata": {
    "execution": {
     "iopub.execute_input": "2022-12-21T20:30:12.698512Z",
     "iopub.status.busy": "2022-12-21T20:30:12.697704Z",
     "iopub.status.idle": "2022-12-21T20:30:12.703429Z",
     "shell.execute_reply": "2022-12-21T20:30:12.704141Z",
     "shell.execute_reply.started": "2021-11-18T15:04:54.478523Z"
    },
    "papermill": {
     "duration": 0.104782,
     "end_time": "2022-12-21T20:30:12.704399",
     "exception": false,
     "start_time": "2022-12-21T20:30:12.599617",
     "status": "completed"
    },
    "tags": []
   },
   "outputs": [
    {
     "name": "stdout",
     "output_type": "stream",
     "text": [
      "Option price for 1-step up scenario: 5.8\n"
     ]
    }
   ],
   "source": [
    "Cu = price_binomial(R, c_uu, c_ud, u, d)\n",
    "print(f\"Option price for 1-step up scenario: {Cu.round(2)}\")"
   ]
  },
  {
   "cell_type": "code",
   "execution_count": 28,
   "id": "specific-vegetation",
   "metadata": {
    "execution": {
     "iopub.execute_input": "2022-12-21T20:30:12.900564Z",
     "iopub.status.busy": "2022-12-21T20:30:12.899866Z",
     "iopub.status.idle": "2022-12-21T20:30:12.906299Z",
     "shell.execute_reply": "2022-12-21T20:30:12.905738Z",
     "shell.execute_reply.started": "2021-11-18T15:05:03.996387Z"
    },
    "papermill": {
     "duration": 0.105309,
     "end_time": "2022-12-21T20:30:12.906461",
     "exception": false,
     "start_time": "2022-12-21T20:30:12.801152",
     "status": "completed"
    },
    "tags": []
   },
   "outputs": [
    {
     "name": "stdout",
     "output_type": "stream",
     "text": [
      "Option price for 1-step down scenario: 0.0\n"
     ]
    }
   ],
   "source": [
    "Cd = price_binomial(R, c_ud, c_dd, u, d)\n",
    "print(f\"Option price for 1-step down scenario: {Cd.round(2)}\")"
   ]
  },
  {
   "cell_type": "code",
   "execution_count": 29,
   "id": "continental-integration",
   "metadata": {
    "execution": {
     "iopub.execute_input": "2022-12-21T20:30:13.105895Z",
     "iopub.status.busy": "2022-12-21T20:30:13.105188Z",
     "iopub.status.idle": "2022-12-21T20:30:13.108341Z",
     "shell.execute_reply": "2022-12-21T20:30:13.108917Z",
     "shell.execute_reply.started": "2021-11-18T15:05:25.89734Z"
    },
    "papermill": {
     "duration": 0.106301,
     "end_time": "2022-12-21T20:30:13.109124",
     "exception": false,
     "start_time": "2022-12-21T20:30:13.002823",
     "status": "completed"
    },
    "tags": []
   },
   "outputs": [
    {
     "name": "stdout",
     "output_type": "stream",
     "text": [
      "Fair option price given all scenario's: 2.81\n"
     ]
    }
   ],
   "source": [
    "C = price_binomial(R, Cu, Cd, u, d)\n",
    "print(f\"Fair option price given all scenario's: {C.round(2)}\")"
   ]
  },
  {
   "cell_type": "markdown",
   "id": "controlled-thumbnail",
   "metadata": {
    "papermill": {
     "duration": 0.096862,
     "end_time": "2022-12-21T20:30:13.302331",
     "exception": false,
     "start_time": "2022-12-21T20:30:13.205469",
     "status": "completed"
    },
    "tags": []
   },
   "source": [
    "## Binomial Lattice plotting"
   ]
  },
  {
   "cell_type": "markdown",
   "id": "light-graphic",
   "metadata": {
    "papermill": {
     "duration": 0.096467,
     "end_time": "2022-12-21T20:30:13.497348",
     "exception": false,
     "start_time": "2022-12-21T20:30:13.400881",
     "status": "completed"
    },
    "tags": []
   },
   "source": [
    "To get a clearer overview of the binomial lattice we can visualize the tree on which price calculation is based. It also allows us to analyze what returns are assumed for the up and down scenario after a time step."
   ]
  },
  {
   "cell_type": "code",
   "execution_count": 30,
   "id": "tribal-generator",
   "metadata": {
    "_kg_hide-input": true,
    "execution": {
     "iopub.execute_input": "2022-12-21T20:30:13.704254Z",
     "iopub.status.busy": "2022-12-21T20:30:13.703364Z",
     "iopub.status.idle": "2022-12-21T20:30:14.060369Z",
     "shell.execute_reply": "2022-12-21T20:30:14.059836Z",
     "shell.execute_reply.started": "2021-11-18T15:15:01.465376Z"
    },
    "papermill": {
     "duration": 0.464063,
     "end_time": "2022-12-21T20:30:14.060523",
     "exception": false,
     "start_time": "2022-12-21T20:30:13.596460",
     "status": "completed"
    },
    "tags": []
   },
   "outputs": [
    {
     "data": {
      "image/png": "[encoded data removed]",
      "text/plain": [
       "<Figure size 1152x576 with 1 Axes>"
      ]
     },
     "metadata": {
      "needs_background": "light"
     },
     "output_type": "display_data"
    }
   ],
   "source": [
    "fig = plt.figure(figsize=[16, 8])\n",
    "for i in range(2):\n",
    "    x = [1, 0, 1]\n",
    "    for j in range(i):\n",
    "        x.append(0)\n",
    "        x.append(1)\n",
    "    x = np.array(x) + i\n",
    "    y = np.arange(-(i+1), i+2)[::-1]\n",
    "    y = 100 * np.power(u, y)\n",
    "    plt.plot(x, y, 'bo-')\n",
    "    if i % 2 == 0:\n",
    "        for x_pos, y_value in zip(x,y):\n",
    "            plt.annotate(y_value.round(2), \n",
    "                         (x_pos, y_value), \n",
    "                         textcoords=\"offset points\",\n",
    "                         xytext=(0, 10), \n",
    "                         ha='center', fontsize=20)\n",
    "plt.xlabel('Time point t (months)', fontsize=20)\n",
    "plt.ylabel('Price (percentage from time t)', fontsize=20)\n",
    "plt.xticks([0, 1, 2], fontsize=16)\n",
    "plt.title('Two step Binomial lattice - European call option', fontsize=20, weight='bold')\n",
    "plt.tight_layout()"
   ]
  },
  {
   "cell_type": "markdown",
   "id": "heavy-airport",
   "metadata": {
    "papermill": {
     "duration": 0.100744,
     "end_time": "2022-12-21T20:30:14.261319",
     "exception": false,
     "start_time": "2022-12-21T20:30:14.160575",
     "status": "completed"
    },
    "tags": []
   },
   "source": [
    "## Black-Scholes"
   ]
  },
  {
   "cell_type": "markdown",
   "id": "developing-clothing",
   "metadata": {
    "papermill": {
     "duration": 0.100538,
     "end_time": "2022-12-21T20:30:14.464865",
     "exception": false,
     "start_time": "2022-12-21T20:30:14.364327",
     "status": "completed"
    },
    "tags": []
   },
   "source": [
    "Black-Scholes is a formula to derive the price of an option based on stochastic calculus. The derivation of the formula can be daunting, so we start first with learning how to apply the formula and express it as Python code.\n",
    "\n",
    "In 1969, [Edward Thorp](https://en.wikipedia.org/wiki/Edward_O._Thorp) discovered what came to be known as Black-Scholes and used it for his investing, but did not publish a paper on it. In 1973, [Fischer Black](https://en.wikipedia.org/wiki/Fischer_Black) and [Myron Scholes](https://en.wikipedia.org/wiki/Myron_Scholes) published their Black-Scholes model. In 1974 it was further formalized and worked out by [Robert C. Merton](https://en.wikipedia.org/wiki/Robert_C._Merton)."
   ]
  },
  {
   "cell_type": "markdown",
   "id": "joint-flashing",
   "metadata": {
    "papermill": {
     "duration": 0.100982,
     "end_time": "2022-12-21T20:30:14.666541",
     "exception": false,
     "start_time": "2022-12-21T20:30:14.565559",
     "status": "completed"
    },
    "tags": []
   },
   "source": [
    "$S_t$ = Stock price at time $t$, $K$ = Strike price of option, $T$ is time till expiration in years, $r$ = risk-free interest rate $\\sigma$ = standard deviation (i.e. volatility).\n",
    "\n",
    "$\\Phi$ denotes the Cumulative Density Function (CDF) of the standard normal distribution ($N(0, 1)$).\n",
    "\n",
    "\n",
    "$C(S_t, t) = \\Phi(d_1^{(t)})S_t - \\Phi(d_2^{(t)})Ke^{-rT}$\n",
    "\n",
    "$P(S_t, t) = \\Phi(-d_2^{(t)})Ke^{-rT} - \\Phi(-d_1^{(t)})S_t$\n",
    "\n",
    "where $d_1^{(t)} = \\frac{1}{\\sigma \\sqrt{T}}[ln(\\frac{S_t}{K}) + (r+\\frac{\\sigma^2}{2})T]$\n",
    "\n",
    "$d_2^{(t)} = d_1^{(t)} - \\sigma \\sqrt{T}$"
   ]
  },
  {
   "cell_type": "code",
   "execution_count": 31,
   "id": "terminal-viewer",
   "metadata": {
    "execution": {
     "iopub.execute_input": "2022-12-21T20:30:14.886230Z",
     "iopub.status.busy": "2022-12-21T20:30:14.885477Z",
     "iopub.status.idle": "2022-12-21T20:30:14.892885Z",
     "shell.execute_reply": "2022-12-21T20:30:14.892232Z",
     "shell.execute_reply.started": "2021-11-18T14:37:42.817686Z"
    },
    "papermill": {
     "duration": 0.121051,
     "end_time": "2022-12-21T20:30:14.893052",
     "exception": false,
     "start_time": "2022-12-21T20:30:14.772001",
     "status": "completed"
    },
    "tags": []
   },
   "outputs": [],
   "source": [
    "class BlackScholes:\n",
    "    \"\"\" \n",
    "    Class to calculate (European) call and put option prices through the Black-Scholes formula \n",
    "    without dividends\n",
    "    \n",
    "    :param S: Price of underlying stock\n",
    "    :param K: Strike price\n",
    "    :param T: Time till expiration (in years)\n",
    "    :param r: Risk-free interest rate (0.05 indicates 5%)\n",
    "    :param sigma: Volatility (standard deviation) of stock (0.15 indicates 15%)\n",
    "    \"\"\"\n",
    "    @staticmethod\n",
    "    def _d1(S, K, T, r, sigma):\n",
    "        return (1 / (sigma * np.sqrt(T))) * (np.log(S/K) + (r + sigma**2 / 2) * T)\n",
    "    \n",
    "    def _d2(self, S, K, T, r, sigma):\n",
    "        return self._d1(S, K, T, r, sigma) - sigma * np.sqrt(T)\n",
    "    \n",
    "    def call_price(self, S, K, T, r, sigma):\n",
    "        \"\"\" Main method for calculating price of a call option \"\"\"\n",
    "        d1 = self._d1(S, K, T, r, sigma)\n",
    "        d2 = self._d2(S, K, T, r, sigma)\n",
    "        return norm.cdf(d1) * S - norm.cdf(d2) * K * np.exp(-r*T)\n",
    "    \n",
    "    def put_price(self, S, K, T, r, sigma):\n",
    "        \"\"\" Main method for calculating price of a put option \"\"\"\n",
    "        d1 = self._d1(S, K, T, r, sigma)\n",
    "        d2 = self._d2(S, K, T, r, sigma)\n",
    "        return norm.cdf(-d2) * K * np.exp(-r*T) - norm.cdf(-d1) * S\n",
    "    \n",
    "    def call_in_the_money(self, S, K, T, r, sigma):\n",
    "        \"\"\" \n",
    "        Calculate probability that call option will be in the money at\n",
    "        maturity according to Black-Scholes.\n",
    "        \"\"\"\n",
    "        d2 = self._d2(S, K, T, r, sigma)\n",
    "        return norm.cdf(d2)\n",
    "    \n",
    "    def put_in_the_money(self, S, K, T, r, sigma):\n",
    "        \"\"\" \n",
    "        Calculate probability that put option will be in the money at\n",
    "        maturity according to Black-Scholes.\n",
    "        \"\"\"\n",
    "        d2 = self._d2(S, K, T, r, sigma)\n",
    "        return 1 - norm.cdf(d2)"
   ]
  },
  {
   "cell_type": "code",
   "execution_count": 32,
   "id": "decent-serial",
   "metadata": {
    "execution": {
     "iopub.execute_input": "2022-12-21T20:30:15.094989Z",
     "iopub.status.busy": "2022-12-21T20:30:15.094182Z",
     "iopub.status.idle": "2022-12-21T20:30:15.098654Z",
     "shell.execute_reply": "2022-12-21T20:30:15.099263Z",
     "shell.execute_reply.started": "2021-11-18T14:37:42.833282Z"
    },
    "papermill": {
     "duration": 0.107318,
     "end_time": "2022-12-21T20:30:15.099471",
     "exception": false,
     "start_time": "2022-12-21T20:30:14.992153",
     "status": "completed"
    },
    "tags": []
   },
   "outputs": [],
   "source": [
    "S = 44 # Stock price\n",
    "K = 45 # Strike price\n",
    "T = 2/12 # Time till expiration (in years)\n",
    "r = 0.06 # Risk-free interest rate\n",
    "sigma = np.sqrt(0.2) # Volatility (standard deviation)"
   ]
  },
  {
   "cell_type": "code",
   "execution_count": 33,
   "id": "dramatic-receipt",
   "metadata": {
    "execution": {
     "iopub.execute_input": "2022-12-21T20:30:15.305406Z",
     "iopub.status.busy": "2022-12-21T20:30:15.304656Z",
     "iopub.status.idle": "2022-12-21T20:30:15.312518Z",
     "shell.execute_reply": "2022-12-21T20:30:15.313207Z",
     "shell.execute_reply.started": "2021-11-18T14:37:42.851237Z"
    },
    "papermill": {
     "duration": 0.112689,
     "end_time": "2022-12-21T20:30:15.313411",
     "exception": false,
     "start_time": "2022-12-21T20:30:15.200722",
     "status": "completed"
    },
    "tags": []
   },
   "outputs": [
    {
     "data": {
      "text/plain": [
       "2.9518170207100383"
      ]
     },
     "execution_count": 33,
     "metadata": {},
     "output_type": "execute_result"
    }
   ],
   "source": [
    "BlackScholes().call_price(S, K, T, r, sigma)"
   ]
  },
  {
   "cell_type": "code",
   "execution_count": 34,
   "id": "sought-professional",
   "metadata": {
    "execution": {
     "iopub.execute_input": "2022-12-21T20:30:15.518083Z",
     "iopub.status.busy": "2022-12-21T20:30:15.517256Z",
     "iopub.status.idle": "2022-12-21T20:30:15.523712Z",
     "shell.execute_reply": "2022-12-21T20:30:15.524358Z",
     "shell.execute_reply.started": "2021-11-18T14:37:42.867799Z"
    },
    "papermill": {
     "duration": 0.109427,
     "end_time": "2022-12-21T20:30:15.524551",
     "exception": false,
     "start_time": "2022-12-21T20:30:15.415124",
     "status": "completed"
    },
    "tags": []
   },
   "outputs": [
    {
     "data": {
      "text/plain": [
       "3.5040595394226024"
      ]
     },
     "execution_count": 34,
     "metadata": {},
     "output_type": "execute_result"
    }
   ],
   "source": [
    "BlackScholes().put_price(S, K, T, r, sigma)"
   ]
  },
  {
   "cell_type": "markdown",
   "id": "lesser-regulation",
   "metadata": {
    "papermill": {
     "duration": 0.102639,
     "end_time": "2022-12-21T20:30:15.731472",
     "exception": false,
     "start_time": "2022-12-21T20:30:15.628833",
     "status": "completed"
    },
    "tags": []
   },
   "source": [
    "### Probability of option ending in the money"
   ]
  },
  {
   "cell_type": "markdown",
   "id": "noticed-clark",
   "metadata": {
    "papermill": {
     "duration": 0.101554,
     "end_time": "2022-12-21T20:30:15.936394",
     "exception": false,
     "start_time": "2022-12-21T20:30:15.834840",
     "status": "completed"
    },
    "tags": []
   },
   "source": [
    "We will show how you can use Black-Scholes to compute the theoretical probability of an option ending in the money. In the money means the option has a value at expiration. For a call option this means that the underlying stock price $S$ is higher than the strike price $K$ at experition. For a put option the stock price must be lower than the strike price. Note that this measure is solely dependent on the CDF of the Standard Normal distribution $N(0, 1)$."
   ]
  },
  {
   "cell_type": "markdown",
   "id": "boring-craft",
   "metadata": {
    "papermill": {
     "duration": 0.10095,
     "end_time": "2022-12-21T20:30:16.138106",
     "exception": false,
     "start_time": "2022-12-21T20:30:16.037156",
     "status": "completed"
    },
    "tags": []
   },
   "source": [
    "Probability call is in the money = $\\Phi(d_2^{(t)})$"
   ]
  },
  {
   "cell_type": "code",
   "execution_count": 35,
   "id": "official-generic",
   "metadata": {
    "execution": {
     "iopub.execute_input": "2022-12-21T20:30:16.342203Z",
     "iopub.status.busy": "2022-12-21T20:30:16.341440Z",
     "iopub.status.idle": "2022-12-21T20:30:16.348172Z",
     "shell.execute_reply": "2022-12-21T20:30:16.348701Z",
     "shell.execute_reply.started": "2021-11-18T14:37:42.877918Z"
    },
    "papermill": {
     "duration": 0.109691,
     "end_time": "2022-12-21T20:30:16.348913",
     "exception": false,
     "start_time": "2022-12-21T20:30:16.239222",
     "status": "completed"
    },
    "tags": []
   },
   "outputs": [
    {
     "data": {
      "text/plain": [
       "0.43659661712317027"
      ]
     },
     "execution_count": 35,
     "metadata": {},
     "output_type": "execute_result"
    }
   ],
   "source": [
    "BlackScholes().call_in_the_money(S, K, T, r, sigma)"
   ]
  },
  {
   "cell_type": "markdown",
   "id": "mechanical-mumbai",
   "metadata": {
    "papermill": {
     "duration": 0.100733,
     "end_time": "2022-12-21T20:30:16.550314",
     "exception": false,
     "start_time": "2022-12-21T20:30:16.449581",
     "status": "completed"
    },
    "tags": []
   },
   "source": [
    "Probability put is in the money = $1 - \\Phi(d_2^{(t)})$"
   ]
  },
  {
   "cell_type": "code",
   "execution_count": 36,
   "id": "supported-synthesis",
   "metadata": {
    "execution": {
     "iopub.execute_input": "2022-12-21T20:30:16.754716Z",
     "iopub.status.busy": "2022-12-21T20:30:16.753983Z",
     "iopub.status.idle": "2022-12-21T20:30:16.761005Z",
     "shell.execute_reply": "2022-12-21T20:30:16.761552Z",
     "shell.execute_reply.started": "2021-11-18T14:37:42.889477Z"
    },
    "papermill": {
     "duration": 0.110118,
     "end_time": "2022-12-21T20:30:16.761736",
     "exception": false,
     "start_time": "2022-12-21T20:30:16.651618",
     "status": "completed"
    },
    "tags": []
   },
   "outputs": [
    {
     "data": {
      "text/plain": [
       "0.5634033828768297"
      ]
     },
     "execution_count": 36,
     "metadata": {},
     "output_type": "execute_result"
    }
   ],
   "source": [
    "BlackScholes().put_in_the_money(S, K, T, r, sigma)"
   ]
  },
  {
   "cell_type": "markdown",
   "id": "duplicate-tract",
   "metadata": {
    "papermill": {
     "duration": 0.101832,
     "end_time": "2022-12-21T20:30:16.964266",
     "exception": false,
     "start_time": "2022-12-21T20:30:16.862434",
     "status": "completed"
    },
    "tags": []
   },
   "source": [
    "## Implied volatility"
   ]
  },
  {
   "cell_type": "markdown",
   "id": "adopted-hungary",
   "metadata": {
    "papermill": {
     "duration": 0.098636,
     "end_time": "2022-12-21T20:30:17.364493",
     "exception": false,
     "start_time": "2022-12-21T20:30:17.265857",
     "status": "completed"
    },
    "tags": []
   },
   "source": [
    "The $\\sigma$ for option pricing can be a hard parameter to determine. Taking the standard deviation over a stock price time-series likely does not work well, since it may have gone through changes that made it less or more volatile over time. Taking a short period like a week also is limited since it can grossly underestimate or overestimate future volatility. Maybe we do not even have enough data of the stock price to get a sense of its volatility. \n",
    "\n",
    "As a solution we can calculate something called \"implied volatility\". This is the volatility that is implied by the prices of options currently on the market. In other words, implied volatility is what the market expects the volatility to be as expressed in option prices. This seems like a circular argument, but works remarkably well in practice. One of the most popular implied volatility measures is the [VIX](https://en.wikipedia.org/wiki/VIX), which denotes the implied volatility based on [S&P500](https://en.wikipedia.org/wiki/S%26P_500) index options and is also known as the \"fear index\", because it spikes in times of stock market panics and uncertainty.\n",
    "\n",
    "![](https://upload.wikimedia.org/wikipedia/commons/5/51/CBOE_Volatlity_Index%2C_VIX.png)\n",
    "_Figure: VIX index from 2004 to 2020._\n",
    "\n",
    "To calculate the implied volatility we compute the Black-Scholes value for several values of $sigma$ and return the value that is closest to the market price that is also given. The implied volatility can be calculated to an artbitrary number of decimals, but here we calculate it up to 2 decimals."
   ]
  },
  {
   "cell_type": "code",
   "execution_count": 37,
   "id": "spare-mills",
   "metadata": {
    "execution": {
     "iopub.execute_input": "2022-12-21T20:30:17.568409Z",
     "iopub.status.busy": "2022-12-21T20:30:17.567588Z",
     "iopub.status.idle": "2022-12-21T20:30:17.575530Z",
     "shell.execute_reply": "2022-12-21T20:30:17.576082Z",
     "shell.execute_reply.started": "2021-11-18T14:37:42.901283Z"
    },
    "papermill": {
     "duration": 0.111338,
     "end_time": "2022-12-21T20:30:17.576280",
     "exception": false,
     "start_time": "2022-12-21T20:30:17.464942",
     "status": "completed"
    },
    "tags": []
   },
   "outputs": [],
   "source": [
    "def call_implied_volatility(price, S, K, T, r):\n",
    "    \"\"\" Calculate implied volatility of a call option up to 2 decimals of precision. \"\"\"\n",
    "    sigma = 0.0001\n",
    "    while sigma < 1:\n",
    "        d1 = BlackScholes()._d1(S, K, T, r, sigma)\n",
    "        d2 = BlackScholes()._d2(S, K, T, r, sigma)\n",
    "        price_implied = S * norm.cdf(d1) - K * np.exp(-r*T) * norm.cdf(d2)\n",
    "        if price - price_implied < 0.0001:\n",
    "            return sigma\n",
    "        sigma += 0.0001\n",
    "    return \"Not Found\"\n",
    "\n",
    "def put_implied_volatility(price, S, K, T, r):\n",
    "    \"\"\" Calculate implied volatility of a put option up to 2 decimals of precision. \"\"\"\n",
    "    sigma = 0.0001\n",
    "    while sigma < 1:\n",
    "        call = BlackScholes().call_price(S, K, T, r, sigma)\n",
    "        price_implied = K * np.exp(-r*T) - S + call\n",
    "        if price - price_implied < 0.0001:\n",
    "            return sigma\n",
    "        sigma += 0.0001\n",
    "    return \"Not Found\""
   ]
  },
  {
   "cell_type": "code",
   "execution_count": 38,
   "id": "important-prison",
   "metadata": {
    "execution": {
     "iopub.execute_input": "2022-12-21T20:30:17.778745Z",
     "iopub.status.busy": "2022-12-21T20:30:17.778041Z",
     "iopub.status.idle": "2022-12-21T20:30:17.782891Z",
     "shell.execute_reply": "2022-12-21T20:30:17.783614Z",
     "shell.execute_reply.started": "2021-11-18T14:37:42.913851Z"
    },
    "papermill": {
     "duration": 0.107912,
     "end_time": "2022-12-21T20:30:17.783846",
     "exception": false,
     "start_time": "2022-12-21T20:30:17.675934",
     "status": "completed"
    },
    "tags": []
   },
   "outputs": [],
   "source": [
    "S = 36 # Stock price\n",
    "K = 35 # Strike price\n",
    "T = 2/12 # Time till expiration (in years)\n",
    "r = 0.05 # Risk-free interest rate\n",
    "option_price = 1.5 # Price of the option that is offered in the market"
   ]
  },
  {
   "cell_type": "code",
   "execution_count": 39,
   "id": "compact-tsunami",
   "metadata": {
    "execution": {
     "iopub.execute_input": "2022-12-21T20:30:17.985391Z",
     "iopub.status.busy": "2022-12-21T20:30:17.984614Z",
     "iopub.status.idle": "2022-12-21T20:30:19.054721Z",
     "shell.execute_reply": "2022-12-21T20:30:19.055588Z",
     "shell.execute_reply.started": "2021-11-18T14:37:42.924957Z"
    },
    "papermill": {
     "duration": 1.172935,
     "end_time": "2022-12-21T20:30:19.055831",
     "exception": false,
     "start_time": "2022-12-21T20:30:17.882896",
     "status": "completed"
    },
    "tags": []
   },
   "outputs": [
    {
     "name": "stdout",
     "output_type": "stream",
     "text": [
      "Implied volatility for call option = 11.55%\n",
      "Implied volatility for put option = 36.2%\n"
     ]
    }
   ],
   "source": [
    "call_imp_vol = call_implied_volatility(option_price, S, K, T, r)\n",
    "put_imp_vol = put_implied_volatility(option_price, S, K, T, r)\n",
    "\n",
    "print(f\"Implied volatility for call option = {round(call_imp_vol*100, 3)}%\")\n",
    "print(f\"Implied volatility for put option = {round(put_imp_vol*100, 3)}%\")"
   ]
  },
  {
   "cell_type": "markdown",
   "id": "cellular-general",
   "metadata": {
    "papermill": {
     "duration": 0.10085,
     "end_time": "2022-12-21T20:30:19.256924",
     "exception": false,
     "start_time": "2022-12-21T20:30:19.156074",
     "status": "completed"
    },
    "tags": []
   },
   "source": [
    "## Trading strategies"
   ]
  },
  {
   "cell_type": "markdown",
   "id": "religious-navigator",
   "metadata": {
    "papermill": {
     "duration": 0.099917,
     "end_time": "2022-12-21T20:30:19.457387",
     "exception": false,
     "start_time": "2022-12-21T20:30:19.357470",
     "status": "completed"
    },
    "tags": []
   },
   "source": [
    "Option trading strategies often involve buying and selling options with different strike prices and/or maturities. Among other things, this allows the investor to bet on the volatility of the underlying asset instead of the direction. Some of the most well-known option strategies are the Straddle, Strangle, Butterfly and Iron Condor."
   ]
  },
  {
   "cell_type": "markdown",
   "id": "clean-norfolk",
   "metadata": {
    "papermill": {
     "duration": 0.101295,
     "end_time": "2022-12-21T20:30:19.659480",
     "exception": false,
     "start_time": "2022-12-21T20:30:19.558185",
     "status": "completed"
    },
    "tags": []
   },
   "source": [
    "**Straddle**\n",
    "\n",
    "In a straddle an investor holds a position in both a call option and a put option with the same strike price and expiration date. This allows the investor to profit from volatility regardless of the direction of the underlying asset.\n",
    "\n",
    "Short Straddle = $-P(K) - C(K)$\n",
    "\n",
    "Long Straddle = $P(K) + C(K)$\n",
    "\n",
    "\n",
    "**Strangle**\n",
    "\n",
    "The strangle is similar to a straddle, but now the call and put option have different strike prices. Again they have the same expiration date. This strategy can be profitable if you have a strong conviction that the underlying asset will have a large movement, but don't want to bet on a particular direction. For the formula's and code we assume that the first strike price is smaller than the second ($K1 < K2$).\n",
    "\n",
    "\n",
    "\n",
    "Short Strangle = $-P(K_1) - C(K_2)$\n",
    "\n",
    "Long Strangle = $P(K_1) + C(K_2)$\n",
    "\n",
    "\n",
    "**Butterfly**\n",
    "\n",
    "A butterfly is an option strategy where we have a high probability of making a profit while once again not betting on a particular direction. We implement this strategy when we think the future volatility of the underlying asset\n",
    "is going to be lower or higher than the implied volatility when long or short respectively. It involves three different strike prices were we assume $K_1 < K_2 < K_3$. Almost always, we also want the option position to be symmetric so this requires that $K_2 - K_1 = K_3 - K_2$.\n",
    "\n",
    "Short put butterfly = $-P(K_1) + 2*P(K_2) - P(K_3)$\n",
    "\n",
    "Long call butterfly = $C(K_1) - 2*C(K_2) + C(K_3)$\n",
    "\n",
    "**Iron condor**\n",
    "\n",
    "The iron condor makes use of four different strike prices and can be seen as a strangle variant of the butterfly strategy. We assume that $K_1 < K_2 < K_3 < K_4$ and for symmetry to hold we require that $K_4 - K_3 = K_2 - K_1$\n",
    "\n",
    "Long iron condor = $P(K_1) - P(K_2) - C(K_3) + C(K_4)$\n",
    "\n",
    "Short iron condor = $-P(K_1) + P(K_2) + C(K_3) - C(K_4)$\n",
    "\n"
   ]
  },
  {
   "cell_type": "code",
   "execution_count": 40,
   "id": "false-clock",
   "metadata": {
    "execution": {
     "iopub.execute_input": "2022-12-21T20:30:19.865840Z",
     "iopub.status.busy": "2022-12-21T20:30:19.865052Z",
     "iopub.status.idle": "2022-12-21T20:30:19.882296Z",
     "shell.execute_reply": "2022-12-21T20:30:19.882829Z",
     "shell.execute_reply.started": "2021-11-18T14:37:44.333766Z"
    },
    "papermill": {
     "duration": 0.122654,
     "end_time": "2022-12-21T20:30:19.883040",
     "exception": false,
     "start_time": "2022-12-21T20:30:19.760386",
     "status": "completed"
    },
    "tags": []
   },
   "outputs": [],
   "source": [
    "class OptionStrategies:\n",
    "    @staticmethod\n",
    "    def short_straddle(S, K, T, r, sigma):\n",
    "        call = BlackScholes().call_price(S, K, T, r, sigma)\n",
    "        put = BlackScholes().put_price(S, K, T, r, sigma)\n",
    "        return - put - call\n",
    "    \n",
    "    @staticmethod\n",
    "    def long_straddle(S, K, T, r, sigma):\n",
    "        call = BlackScholes().call_price(S, K, T, r, sigma)\n",
    "        put = BlackScholes().put_price(S, K, T, r, sigma)\n",
    "        return put + call\n",
    "    \n",
    "    @staticmethod\n",
    "    def short_strangle(S, K1, K2, T, r, sigma):\n",
    "        assert K1 < K2, f\"Please make sure that K1 < K2. Now K1={K1}, K2={K2}\"\n",
    "        put = BlackScholes().put_price(S, K1, T, r, sigma)\n",
    "        call = BlackScholes().call_price(S, K2, T, r, sigma)\n",
    "        return - put - call\n",
    "    \n",
    "    @staticmethod\n",
    "    def long_strangle(S, K1, K2, T, r, sigma):\n",
    "        assert K1 < K2, f\"Please make sure that K1 < K2. Now K1={K1}, K2={K2}\"\n",
    "        put = BlackScholes().put_price(S, K1, T, r, sigma)\n",
    "        call = BlackScholes().call_price(S, K2, T, r, sigma)\n",
    "        return put + call\n",
    "    \n",
    "    @staticmethod\n",
    "    def short_put_butterfly(S, K1, K2, K3, T, r, sigma):\n",
    "        assert K1 < K2 < K3, f\"Please make sure that K1 < K2 < K3. Now K1={K1}, K2={K2}, K3={K3}\"\n",
    "        put1 = BlackScholes().put_price(S, K1, T, r, sigma)\n",
    "        put2 = BlackScholes().put_price(S, K2, T, r, sigma)\n",
    "        put3 = BlackScholes().put_price(S, K3, T, r, sigma)\n",
    "        return - put1 + 2 * put2 - put3\n",
    "    \n",
    "    @staticmethod\n",
    "    def long_call_butterfly(S, K1, K2, K3, T, r, sigma):\n",
    "        assert K1 < K2 < K3, f\"Please make sure that K1 < K2 < K3. Now K1={K1}, K2={K2}, K3={K3}\"\n",
    "        call1 = BlackScholes().call_price(S, K1, T, r, sigma)\n",
    "        call2 = BlackScholes().call_price(S, K2, T, r, sigma)\n",
    "        call3 = BlackScholes().call_price(S, K3, T, r, sigma)\n",
    "        return call1 - 2 * call2 + call3\n",
    "    \n",
    "    @staticmethod\n",
    "    def short_iron_condor(S, K1, K2, K3, K4, T, r, sigma):\n",
    "        assert K1 < K2 < K3 < K4, f\"Please make sure that K1 < K2 < K3 < K4. Now K1={K1}, K2={K2}, K3={K3}, K4={K4}\"\n",
    "        put1 = BlackScholes().put_price(S, K1, T, r, sigma)\n",
    "        put2 = BlackScholes().put_price(S, K2, T, r, sigma)\n",
    "        call1 = BlackScholes().call_price(S, K3, T, r, sigma)\n",
    "        call2 = BlackScholes().call_price(S, K4, T, r, sigma)\n",
    "        return put1 - put2 - call1 + call2\n",
    "    \n",
    "    @staticmethod\n",
    "    def long_iron_condor(S, K1, K2, K3, K4, T, r, sigma):\n",
    "        assert K1 < K2 < K3 < K4, f\"Please make sure that K1 < K2 < K3 < K4. Now K1={K1}, K2={K2}, K3={K3}, K4={K4}\"\n",
    "        put1 = BlackScholes().put_price(S, K1, T, r, sigma)\n",
    "        put2 = BlackScholes().put_price(S, K2, T, r, sigma)\n",
    "        call1 = BlackScholes().call_price(S, K3, T, r, sigma)\n",
    "        call2 = BlackScholes().call_price(S, K4, T, r, sigma)\n",
    "        return - put1 + put2 + call1 - call2"
   ]
  },
  {
   "cell_type": "markdown",
   "id": "other-chart",
   "metadata": {
    "papermill": {
     "duration": 0.100935,
     "end_time": "2022-12-21T20:30:20.084979",
     "exception": false,
     "start_time": "2022-12-21T20:30:19.984044",
     "status": "completed"
    },
    "tags": []
   },
   "source": [
    "### Payoff function visualizations for trading strategies"
   ]
  },
  {
   "cell_type": "markdown",
   "id": "unable-scoop",
   "metadata": {
    "papermill": {
     "duration": 0.10072,
     "end_time": "2022-12-21T20:30:20.292076",
     "exception": false,
     "start_time": "2022-12-21T20:30:20.191356",
     "status": "completed"
    },
    "tags": []
   },
   "source": [
    "By iterating over a range of outcomes we can visualize the payoff for these option strategies in different scenarios."
   ]
  },
  {
   "cell_type": "code",
   "execution_count": 41,
   "id": "moving-election",
   "metadata": {
    "execution": {
     "iopub.execute_input": "2022-12-21T20:30:20.504264Z",
     "iopub.status.busy": "2022-12-21T20:30:20.503516Z",
     "iopub.status.idle": "2022-12-21T20:30:20.507372Z",
     "shell.execute_reply": "2022-12-21T20:30:20.508019Z",
     "shell.execute_reply.started": "2021-11-18T14:37:44.355466Z"
    },
    "papermill": {
     "duration": 0.110139,
     "end_time": "2022-12-21T20:30:20.508214",
     "exception": false,
     "start_time": "2022-12-21T20:30:20.398075",
     "status": "completed"
    },
    "tags": []
   },
   "outputs": [],
   "source": [
    "T = 2/12 # Time till expiration (in years)\n",
    "r = 0.05 # Risk-free interest rate\n",
    "sigma = np.sqrt(1/68) # Volatility (standard deviation)\n",
    "end_prices = np.arange(5, 65, 1) # Possible scenarios for underlying stock price at expiration."
   ]
  },
  {
   "cell_type": "markdown",
   "id": "continuing-attachment",
   "metadata": {
    "papermill": {
     "duration": 0.099922,
     "end_time": "2022-12-21T20:30:20.711089",
     "exception": false,
     "start_time": "2022-12-21T20:30:20.611167",
     "status": "completed"
    },
    "tags": []
   },
   "source": [
    "### Straddle"
   ]
  },
  {
   "cell_type": "code",
   "execution_count": 42,
   "id": "mature-stewart",
   "metadata": {
    "execution": {
     "iopub.execute_input": "2022-12-21T20:30:20.943097Z",
     "iopub.status.busy": "2022-12-21T20:30:20.942298Z",
     "iopub.status.idle": "2022-12-21T20:30:21.155563Z",
     "shell.execute_reply": "2022-12-21T20:30:21.156366Z",
     "shell.execute_reply.started": "2021-11-18T14:37:44.372025Z"
    },
    "papermill": {
     "duration": 0.33874,
     "end_time": "2022-12-21T20:30:21.156587",
     "exception": false,
     "start_time": "2022-12-21T20:30:20.817847",
     "status": "completed"
    },
    "tags": []
   },
   "outputs": [
    {
     "data": {
      "image/png": "[encoded data removed]",
      "text/plain": [
       "<Figure size 432x288 with 1 Axes>"
      ]
     },
     "metadata": {
      "needs_background": "light"
     },
     "output_type": "display_data"
    }
   ],
   "source": [
    "K1 = 35 # Strike price\n",
    "straddle_payoffs = [OptionStrategies.long_straddle(S, K1, T, r, sigma) for S in end_prices]\n",
    "plt.plot(end_prices, straddle_payoffs)\n",
    "plt.xlabel('End Stock prices S')\n",
    "plt.ylabel('Payoff')\n",
    "plt.title(f'T={round(T, 2)}, r={r}, sigma={round(sigma, 4)}')\n",
    "plt.suptitle('Payoff function Black-Scholes using long straddle', weight='bold', fontsize=12);"
   ]
  },
  {
   "cell_type": "markdown",
   "id": "centered-scope",
   "metadata": {
    "papermill": {
     "duration": 0.106508,
     "end_time": "2022-12-21T20:30:21.386255",
     "exception": false,
     "start_time": "2022-12-21T20:30:21.279747",
     "status": "completed"
    },
    "tags": []
   },
   "source": [
    "### Strangle"
   ]
  },
  {
   "cell_type": "code",
   "execution_count": 43,
   "id": "great-discussion",
   "metadata": {
    "execution": {
     "iopub.execute_input": "2022-12-21T20:30:21.604622Z",
     "iopub.status.busy": "2022-12-21T20:30:21.603843Z",
     "iopub.status.idle": "2022-12-21T20:30:21.812460Z",
     "shell.execute_reply": "2022-12-21T20:30:21.811858Z",
     "shell.execute_reply.started": "2021-11-18T14:37:44.577877Z"
    },
    "papermill": {
     "duration": 0.319784,
     "end_time": "2022-12-21T20:30:21.812649",
     "exception": false,
     "start_time": "2022-12-21T20:30:21.492865",
     "status": "completed"
    },
    "tags": []
   },
   "outputs": [
    {
     "data": {
      "image/png": "[encoded data removed]",
      "text/plain": [
       "<Figure size 432x288 with 1 Axes>"
      ]
     },
     "metadata": {
      "needs_background": "light"
     },
     "output_type": "display_data"
    }
   ],
   "source": [
    "K1, K2 = 25, 45 # Strike prices\n",
    "strangle_payoffs = [OptionStrategies.long_strangle(S, K1, K2, T, r, sigma) for S in end_prices]\n",
    "plt.plot(end_prices, strangle_payoffs)\n",
    "plt.xlabel('End Stock prices S')\n",
    "plt.ylabel('Payoff')\n",
    "plt.title(f'T={round(T, 2)}, r={r}, sigma={round(sigma, 4)}')\n",
    "plt.suptitle('Payoff function Black-Scholes using long strangle', weight='bold', fontsize=12);"
   ]
  },
  {
   "cell_type": "markdown",
   "id": "careful-rally",
   "metadata": {
    "papermill": {
     "duration": 0.104759,
     "end_time": "2022-12-21T20:30:22.024693",
     "exception": false,
     "start_time": "2022-12-21T20:30:21.919934",
     "status": "completed"
    },
    "tags": []
   },
   "source": [
    "### Butterfly"
   ]
  },
  {
   "cell_type": "code",
   "execution_count": 44,
   "id": "foreign-january",
   "metadata": {
    "execution": {
     "iopub.execute_input": "2022-12-21T20:30:22.243751Z",
     "iopub.status.busy": "2022-12-21T20:30:22.243029Z",
     "iopub.status.idle": "2022-12-21T20:30:22.435668Z",
     "shell.execute_reply": "2022-12-21T20:30:22.434883Z",
     "shell.execute_reply.started": "2021-11-18T14:37:44.778898Z"
    },
    "papermill": {
     "duration": 0.304783,
     "end_time": "2022-12-21T20:30:22.435868",
     "exception": false,
     "start_time": "2022-12-21T20:30:22.131085",
     "status": "completed"
    },
    "tags": []
   },
   "outputs": [
    {
     "data": {
      "image/png": "[encoded data removed]",
      "text/plain": [
       "<Figure size 432x288 with 1 Axes>"
      ]
     },
     "metadata": {
      "needs_background": "light"
     },
     "output_type": "display_data"
    }
   ],
   "source": [
    "K1, K2, K3 = 25, 35, 45 # Strike prices\n",
    "butterfly_payoffs = [OptionStrategies.long_call_butterfly(S, K1, K2, K3, T, r, sigma) for S in end_prices]\n",
    "plt.plot(end_prices, butterfly_payoffs)\n",
    "plt.xlabel('End Stock prices S')\n",
    "plt.ylabel('Payoff')\n",
    "plt.title(f'T={round(T, 2)}, r={r}, sigma={round(sigma, 4)}')\n",
    "plt.suptitle('Payoff function Black-Scholes using long call butterfly', weight='bold', fontsize=12);"
   ]
  },
  {
   "cell_type": "markdown",
   "id": "adjusted-copper",
   "metadata": {
    "papermill": {
     "duration": 0.136619,
     "end_time": "2022-12-21T20:30:22.675935",
     "exception": false,
     "start_time": "2022-12-21T20:30:22.539316",
     "status": "completed"
    },
    "tags": []
   },
   "source": [
    "### Iron Condor"
   ]
  },
  {
   "cell_type": "code",
   "execution_count": 45,
   "id": "radical-taste",
   "metadata": {
    "execution": {
     "iopub.execute_input": "2022-12-21T20:30:22.885383Z",
     "iopub.status.busy": "2022-12-21T20:30:22.884695Z",
     "iopub.status.idle": "2022-12-21T20:30:23.104662Z",
     "shell.execute_reply": "2022-12-21T20:30:23.105240Z",
     "shell.execute_reply.started": "2021-11-18T14:37:44.994503Z"
    },
    "papermill": {
     "duration": 0.32706,
     "end_time": "2022-12-21T20:30:23.105446",
     "exception": false,
     "start_time": "2022-12-21T20:30:22.778386",
     "status": "completed"
    },
    "tags": []
   },
   "outputs": [
    {
     "data": {
      "image/png": "[encoded data removed]",
      "text/plain": [
       "<Figure size 432x288 with 1 Axes>"
      ]
     },
     "metadata": {
      "needs_background": "light"
     },
     "output_type": "display_data"
    }
   ],
   "source": [
    "K1, K2, K3, K4 = 20, 25, 45, 50 # Strike prices\n",
    "iron_condor_payoffs = [OptionStrategies.long_iron_condor(S, K1, K2, K3, K4, T, r, sigma) for S in end_prices]\n",
    "plt.plot(end_prices, iron_condor_payoffs)\n",
    "plt.xlabel('End Stock prices S')\n",
    "plt.ylabel('Payoff')\n",
    "plt.title(f'T={round(T, 2)}, r={r}, sigma={round(sigma, 4)}')\n",
    "plt.suptitle('Payoff function Black-Scholes using long iron condor', weight='bold', fontsize=12);"
   ]
  },
  {
   "cell_type": "markdown",
   "id": "opening-cornell",
   "metadata": {
    "papermill": {
     "duration": 0.103322,
     "end_time": "2022-12-21T20:30:23.314235",
     "exception": false,
     "start_time": "2022-12-21T20:30:23.210913",
     "status": "completed"
    },
    "tags": []
   },
   "source": [
    "## Custom payoff function"
   ]
  },
  {
   "cell_type": "markdown",
   "id": "structured-joining",
   "metadata": {
    "papermill": {
     "duration": 0.103374,
     "end_time": "2022-12-21T20:30:23.522037",
     "exception": false,
     "start_time": "2022-12-21T20:30:23.418663",
     "status": "completed"
    },
    "tags": []
   },
   "source": [
    "Financial instruments can get more complex than the trading strategies we just discussed. These products often have daunting names like [Barrier options](https://www.investopedia.com/terms/b/barrieroption.asp), [Asian options](https://en.wikipedia.org/wiki/Asian_option), [Bermudan options](https://www.investopedia.com/terms/b/bermuda.asp), [Mountain Range options](https://www.investopedia.com/terms/m/mountain_range_option.asp#:~:text=Key%20Takeaways-,Mountain%20range%20options%20are%20a%20family%20of%20exotic%20options%20based,individual%20securities%20in%20the%20basket.) and [Structured products](https://www.investopedia.com/articles/optioninvestor/07/structured_products.asp). Sometimes investors even feel the need to trade [options on options](https://www.investopedia.com/terms/c/compoundoption.asp)! As financial wizards we would like to able to do calculations with an arbitrary option strategy. The purpose of this can be for example to increase [leverage](https://www.investopedia.com/terms/l/leverage.asp) or hedge against specific risks.\n",
    "\n",
    "Let's say an investment bank has made some crazy financial instrument for you that combines call and put options according to a payoff function $\\alpha C(K)^{\\alpha P(K)}/(\\beta + P(K))^{C(K)}$ where $\\alpha=3$ and $\\beta=1$. Using Black-Scholes and Python we can set up something to visualize its payoff."
   ]
  },
  {
   "cell_type": "code",
   "execution_count": 46,
   "id": "czech-cattle",
   "metadata": {
    "execution": {
     "iopub.execute_input": "2022-12-21T20:30:23.739599Z",
     "iopub.status.busy": "2022-12-21T20:30:23.738828Z",
     "iopub.status.idle": "2022-12-21T20:30:23.842592Z",
     "shell.execute_reply": "2022-12-21T20:30:23.843230Z",
     "shell.execute_reply.started": "2021-11-18T14:37:45.219237Z"
    },
    "papermill": {
     "duration": 0.216035,
     "end_time": "2022-12-21T20:30:23.843451",
     "exception": false,
     "start_time": "2022-12-21T20:30:23.627416",
     "status": "completed"
    },
    "tags": []
   },
   "outputs": [],
   "source": [
    "def payoff_function(end_prices: np.ndarray, K: int, T: float, r: float, sigma: float, \n",
    "                    alpha: int = 3, beta: int = 1):\n",
    "    \"\"\" Some crazy custom payoff function \"\"\"\n",
    "    call_prices = np.array([BlackScholes().call_price(s, K, T, r, sigma) for s in end_prices])\n",
    "    put_prices = np.array([BlackScholes().put_price(s, K, T, r, sigma) for s in end_prices])\n",
    "    return alpha * call_prices**(alpha*put_prices) / (beta + put_prices)**(beta*call_prices)\n",
    "  \n",
    "K = 35 # Strike price\n",
    "T = 1 # Time till expiration (in years)\n",
    "r = 0.05 # Risk-free interest rate\n",
    "end_prices = np.arange(30, 50, 0.1)\n",
    "payoffs = payoff_function(end_prices, S, T, r, sigma)"
   ]
  },
  {
   "cell_type": "code",
   "execution_count": 47,
   "id": "improved-dictionary",
   "metadata": {
    "execution": {
     "iopub.execute_input": "2022-12-21T20:30:24.057065Z",
     "iopub.status.busy": "2022-12-21T20:30:24.056351Z",
     "iopub.status.idle": "2022-12-21T20:30:24.232881Z",
     "shell.execute_reply": "2022-12-21T20:30:24.233499Z",
     "shell.execute_reply.started": "2021-11-18T14:37:45.350968Z"
    },
    "papermill": {
     "duration": 0.286124,
     "end_time": "2022-12-21T20:30:24.233706",
     "exception": false,
     "start_time": "2022-12-21T20:30:23.947582",
     "status": "completed"
    },
    "tags": []
   },
   "outputs": [
    {
     "data": {
      "image/png": "[encoded data removed]",
      "text/plain": [
       "<Figure size 432x288 with 1 Axes>"
      ]
     },
     "metadata": {
      "needs_background": "light"
     },
     "output_type": "display_data"
    }
   ],
   "source": [
    "plt.plot(end_prices, payoffs)\n",
    "plt.xlabel('End Stock price S')\n",
    "plt.ylabel('Payoff')\n",
    "plt.title(f'K={K}, T={round(T, 2)}, r={r}, sigma={round(sigma, 4)}')\n",
    "plt.suptitle('Payoff function Black-Scholes using custom payoff function', weight='bold', fontsize=12);"
   ]
  },
  {
   "cell_type": "markdown",
   "id": "breathing-renaissance",
   "metadata": {
    "papermill": {
     "duration": 0.104156,
     "end_time": "2022-12-21T20:30:24.443002",
     "exception": false,
     "start_time": "2022-12-21T20:30:24.338846",
     "status": "completed"
    },
    "tags": []
   },
   "source": [
    "## Stochastic differential equation (Wiener process)"
   ]
  },
  {
   "cell_type": "markdown",
   "id": "upset-holmes",
   "metadata": {
    "papermill": {
     "duration": 0.106343,
     "end_time": "2022-12-21T20:30:24.654776",
     "exception": false,
     "start_time": "2022-12-21T20:30:24.548433",
     "status": "completed"
    },
    "tags": []
   },
   "source": [
    "![](https://memegenerator.net/img/instances/59439515.jpg)"
   ]
  },
  {
   "cell_type": "markdown",
   "id": "fitted-manual",
   "metadata": {
    "papermill": {
     "duration": 0.105476,
     "end_time": "2022-12-21T20:30:24.867785",
     "exception": false,
     "start_time": "2022-12-21T20:30:24.762309",
     "status": "completed"
    },
    "tags": []
   },
   "source": [
    "We have talked a lot about the Black-Scholes model, but not so much about the mathematical justification that led to the formula. It is not crucial that you know the mathematics in order to use Black-Scholes, but it does allow you to think about the formula in a general way and to adapt it to other financial situations. Feel free to skip this part if you are only interested in the code and computing the formula.\n",
    "\n",
    "As early as 1900, the French Mathematician [Louis Bachelier](https://mathshistory.st-andrews.ac.uk/Biographies/Bachelier/) modeled stock movement according to \"[Brownian motion](https://en.wikipedia.org/wiki/Brownian_motion)\", which basically means random. The insight that a stock price can be described by [Geometric Brownian Motion (GBM)](https://en.wikipedia.org/wiki/Geometric_Brownian_motion) as a [Wiener process](https://en.wikipedia.org/wiki/Wiener_process) is the first building block of the Black-Scholes formula. It allows us to set up the following Stochastic Differential equation (SDE):\n",
    "\n",
    "$dS_t = \\mu S_tdt + \\sigma S_t d W_t$, where $W_t \\sim \\mathcal{N}(0, t)$ is the Wiener process.\n",
    "\n",
    "The next important component for the Black-Scholes formula was discovered around 1950 and is called [Ito's lemma](https://en.wikipedia.org/wiki/It%C3%B4%27s_lemma), which allows us to solve an SDE for an Ito process, which is the case for Black-Scholes:\n",
    "\n",
    "For an Ito process $dX_t = \\mu S_tdt + \\sigma S_t d W_t$\n",
    "\n",
    "Through Ito's lemma, for any twice differentiable function $F(x, t)$, we get\n",
    "\n",
    "$dF(x,t) = (\\mu \\frac{\\partial F}{\\partial x} + \\frac{\\partial F}{\\partial t} + \\frac{1}{2} \\sigma_t^2 \\frac{\\partial^2 F}{\\partial x^2})dt + \\sigma_t \\frac{\\partial F}{\\partial x} d W_t$.\n",
    "\n",
    "The basic Black-Scholes model makes an additional set of assumptions:\n",
    "\n",
    "1. There are no transaction costs\n",
    "2. No dividends are involved\n",
    "3. One can easily borrow and lend cash at the risk-free interest rate $r_f$.\n",
    "4. One can buy fractions of assets.\n",
    "5. There are no restrictions on short selling (like share borrowing costs).\n",
    "\n",
    "We now have enough tools to derive SDE's involving Wiener processes. Let's take an example to show the full derivation of some Wiener Process using Ito's Lemma."
   ]
  },
  {
   "cell_type": "markdown",
   "id": "filled-expert",
   "metadata": {
    "papermill": {
     "duration": 0.104056,
     "end_time": "2022-12-21T20:30:25.077973",
     "exception": false,
     "start_time": "2022-12-21T20:30:24.973917",
     "status": "completed"
    },
    "tags": []
   },
   "source": [
    "### Example of deriving stochastic differential equation"
   ]
  },
  {
   "cell_type": "markdown",
   "id": "declared-alliance",
   "metadata": {
    "papermill": {
     "duration": 0.104663,
     "end_time": "2022-12-21T20:30:25.289278",
     "exception": false,
     "start_time": "2022-12-21T20:30:25.184615",
     "status": "completed"
    },
    "tags": []
   },
   "source": [
    "Let $W_t$ be a Wiener process at time $t, t \\geq 0$.\n",
    "\n",
    "For $t \\geq 0, X_t = t^{\\alpha}e^{\\beta + \\gamma W_t}$, with $\\alpha, \\beta$ and $\\gamma$ as known constants.\n",
    "\n",
    "We apply Ito's Lemma to compute the stochastic differential equation $dX_t$."
   ]
  },
  {
   "cell_type": "markdown",
   "id": "missing-repair",
   "metadata": {
    "papermill": {
     "duration": 0.103911,
     "end_time": "2022-12-21T20:30:25.497716",
     "exception": false,
     "start_time": "2022-12-21T20:30:25.393805",
     "status": "completed"
    },
    "tags": []
   },
   "source": [
    "\n",
    "\n",
    "Let $dS_t = \\mu S_t dt + \\sigma S_t d W_t$, where $\\mu = 0$ and $\\sigma = \\sigma_t^2 = 1$ (Standard normal distribution), then:\n",
    "\n",
    "\\begin{equation}\n",
    "F(w, t)=t^{\\alpha} e^{\\beta+\\gamma w} \\\\\n",
    "\\frac{\\partial F}{\\partial w} = \\gamma  t^{\\alpha}  e^{\\beta+\\gamma  w} = \\gamma F \\\\\n",
    "\\frac{\\partial F}{\\partial t} = \\alpha  t^{\\alpha-1}  e^{\\beta+\\gamma  w} = \\alpha \\frac{1}{t} t^{\\alpha}e^{\\beta+\\gamma  w} = \\alpha t^{-1} F\\\\\n",
    "\\frac{\\partial^{2} F}{\\partial w^{2}} = \\gamma^{2}t^{\\alpha}  e^{\\beta+\\gamma  w} = \\gamma^{2} F\n",
    "\\end{equation}\n",
    "\n",
    "\n",
    "\n",
    "\\begin{equation} \n",
    "\\begin{split}\n",
    "dX_{t} & = dF(w, t) \\\\\n",
    " & = (\\mu_{t} \\frac{\\partial F}{\\partial w} + \\frac{\\partial F}{\\partial t} + \\frac{1}{2} \\sigma_{t}^{2}  \\frac{\\partial^{2} F}{\\partial w^{2}}) dt + \\sigma_{t} \\frac{\\partial F}{\\partial w} dW_{t} \\\\\n",
    " & = (0 \\frac{\\partial F}{\\partial w} + \\frac{\\partial F}{\\partial t} + \\frac{1}{2}  1   \\frac{\\partial^{2} F}{\\partial w^{2}}) dt + 1 \\frac{\\partial F}{\\partial w} dW_{t} \\\\\n",
    " & = (0 + \\alpha t^{-1} F  + \\frac{1}{2}  \\gamma^{2} F) dt + \\gamma F dW_{t} \\\\\n",
    " & = (\\alpha t^{-1}  + \\frac{1}{2}  \\gamma^{2})F dt + \\gamma F dW_{t} \\\\\n",
    " & = (\\alpha t^{-1}  + \\frac{1}{2}  \\gamma^{2})X_{t} dt + \\gamma X_{t} dW_{t}\n",
    "\\end{split}\n",
    "\\end{equation}"
   ]
  },
  {
   "cell_type": "markdown",
   "id": "proper-rubber",
   "metadata": {
    "papermill": {
     "duration": 0.105428,
     "end_time": "2022-12-21T20:30:25.707952",
     "exception": false,
     "start_time": "2022-12-21T20:30:25.602524",
     "status": "completed"
    },
    "tags": []
   },
   "source": [
    "## Value-at-Risk (VaR)"
   ]
  },
  {
   "cell_type": "markdown",
   "id": "immediate-conservation",
   "metadata": {
    "papermill": {
     "duration": 0.1045,
     "end_time": "2022-12-21T20:30:25.916723",
     "exception": false,
     "start_time": "2022-12-21T20:30:25.812223",
     "status": "completed"
    },
    "tags": []
   },
   "source": [
    "![](https://www.azquotes.com/picture-quotes/quote-a-99-value-at-risk-calculation-does-not-evaluate-what-happens-in-the-last-one-percent-david-einhorn-134-56-74.jpg)"
   ]
  },
  {
   "cell_type": "markdown",
   "id": "complex-amateur",
   "metadata": {
    "papermill": {
     "duration": 0.104629,
     "end_time": "2022-12-21T20:30:26.126870",
     "exception": false,
     "start_time": "2022-12-21T20:30:26.022241",
     "status": "completed"
    },
    "tags": []
   },
   "source": [
    "Value at risk (VaR) expresses how much of our investment we can lose within a given confidence interval, for example 95%. Note that this requires us to assume a probability distibution. Often (log-)normal distributions are used for finance applications. Here we give a simple example if we assume returns are normally distributed using. Note that it can be dangerous to rely on this as often we don't know the exact distribution or parameters of an investment. It is likely that we could lose much more than VaR indicates. VaR can only inform us about ordinary fluctuations of an asset.\n",
    "\n",
    "For more information about VaR you can read this series by Investopedia ([Part1](https://www.investopedia.com/articles/04/092904.asp), [Part2](https://www.investopedia.com/articles/04/101304.asp))."
   ]
  },
  {
   "cell_type": "code",
   "execution_count": 48,
   "id": "close-vacuum",
   "metadata": {
    "execution": {
     "iopub.execute_input": "2022-12-21T20:30:26.340609Z",
     "iopub.status.busy": "2022-12-21T20:30:26.339931Z",
     "iopub.status.idle": "2022-12-21T20:30:26.347851Z",
     "shell.execute_reply": "2022-12-21T20:30:26.348447Z",
     "shell.execute_reply.started": "2021-11-18T14:37:45.541572Z"
    },
    "papermill": {
     "duration": 0.115944,
     "end_time": "2022-12-21T20:30:26.348637",
     "exception": false,
     "start_time": "2022-12-21T20:30:26.232693",
     "status": "completed"
    },
    "tags": []
   },
   "outputs": [],
   "source": [
    "# Characteristics of portfolio\n",
    "initial_investment = 100_000\n",
    "portfolio_mean = 0.2 # Average Returns\n",
    "portfolio_std = np.sqrt(0.044) # Standard deviation of portfolio\n",
    "\n",
    "# Compute statistics for portfolio\n",
    "mean_investment = (1 + portfolio_mean) * initial_investment\n",
    "std_investment = portfolio_std * initial_investment\n",
    "\n",
    "# Cutoff point in distribution for several confidence intervals (95%, 98% and 99%)\n",
    "cutoff1 = norm.ppf(0.05, mean_investment, std_investment)\n",
    "cutoff2 = norm.ppf(0.02, mean_investment, std_investment)\n",
    "cutoff3 = norm.ppf(0.01, mean_investment, std_investment)\n",
    "\n",
    "# Calculate VaR for several confidence intervals\n",
    "VaR5 = initial_investment - cutoff1\n",
    "VaR2 = initial_investment - cutoff2\n",
    "VaR1 = initial_investment - cutoff3"
   ]
  },
  {
   "cell_type": "code",
   "execution_count": 49,
   "id": "sublime-microphone",
   "metadata": {
    "execution": {
     "iopub.execute_input": "2022-12-21T20:30:26.565711Z",
     "iopub.status.busy": "2022-12-21T20:30:26.564813Z",
     "iopub.status.idle": "2022-12-21T20:30:26.569162Z",
     "shell.execute_reply": "2022-12-21T20:30:26.568455Z",
     "shell.execute_reply.started": "2021-11-18T14:37:45.551209Z"
    },
    "papermill": {
     "duration": 0.114795,
     "end_time": "2022-12-21T20:30:26.569328",
     "exception": false,
     "start_time": "2022-12-21T20:30:26.454533",
     "status": "completed"
    },
    "tags": []
   },
   "outputs": [
    {
     "name": "stdout",
     "output_type": "stream",
     "text": [
      "The total value at risk (VaR) with 95% confidence is: 14502.74\n",
      "The total value at risk (VaR) with 98% confidence is: 23079.8\n",
      "The total value at risk (VaR) with 99% confidence is: 28797.88\n"
     ]
    }
   ],
   "source": [
    "print(f\"The total value at risk (VaR) with 95% confidence is: {VaR5.round(2)}\")\n",
    "print(f\"The total value at risk (VaR) with 98% confidence is: {VaR2.round(2)}\")\n",
    "print(f\"The total value at risk (VaR) with 99% confidence is: {VaR1.round(2)}\")"
   ]
  },
  {
   "cell_type": "markdown",
   "id": "suburban-estate",
   "metadata": {
    "papermill": {
     "duration": 0.106006,
     "end_time": "2022-12-21T20:30:26.783244",
     "exception": false,
     "start_time": "2022-12-21T20:30:26.677238",
     "status": "completed"
    },
    "tags": []
   },
   "source": [
    "## Downside Risk"
   ]
  },
  {
   "cell_type": "markdown",
   "id": "worse-grounds",
   "metadata": {
    "papermill": {
     "duration": 0.106521,
     "end_time": "2022-12-21T20:30:26.995346",
     "exception": false,
     "start_time": "2022-12-21T20:30:26.888825",
     "status": "completed"
    },
    "tags": []
   },
   "source": [
    "In the rare case that we have knowledge of the underlying distribution we can compute the downside risk. This would be more informative than VaR, since as prudent investors we are mainly interested in what we can lose in an extreme scenario.\n",
    "We define the downside risk as:"
   ]
  },
  {
   "cell_type": "markdown",
   "id": "amino-resource",
   "metadata": {
    "papermill": {
     "duration": 0.108174,
     "end_time": "2022-12-21T20:30:27.210570",
     "exception": false,
     "start_time": "2022-12-21T20:30:27.102396",
     "status": "completed"
    },
    "tags": []
   },
   "source": [
    "$D \\approx \\sigma \\sqrt{(1+\\delta^2)\\Phi(-\\delta) - \\delta\\phi(\\delta)}$\n",
    "\n",
    "with $\\mathcal{G}_1 = log(S_t/S_o)$ and where, $\\Phi{.}$ is the CDF of the standard normal distribution, $\\phi$ the PDF of the standard normal distribution, $\\delta = P_f\\sqrt{t}$ and $P_f=(v - r_f)/\\sigma$. $v$ denotes drift, $r_f$ the risk-free interest rate, $\\sigma$ the standard deviation and $t$ the time index, which usually denotes years."
   ]
  },
  {
   "cell_type": "code",
   "execution_count": 50,
   "id": "immediate-chase",
   "metadata": {
    "execution": {
     "iopub.execute_input": "2022-12-21T20:30:27.430518Z",
     "iopub.status.busy": "2022-12-21T20:30:27.429465Z",
     "iopub.status.idle": "2022-12-21T20:30:27.432853Z",
     "shell.execute_reply": "2022-12-21T20:30:27.432285Z",
     "shell.execute_reply.started": "2021-11-18T14:37:45.568641Z"
    },
    "papermill": {
     "duration": 0.115509,
     "end_time": "2022-12-21T20:30:27.433014",
     "exception": false,
     "start_time": "2022-12-21T20:30:27.317505",
     "status": "completed"
    },
    "tags": []
   },
   "outputs": [],
   "source": [
    "def downside_risk(drift, r, sigma, t):\n",
    "    \"\"\" Calculate the approximate downside risk. \"\"\"\n",
    "    delta = (drift - r) / sigma * np.sqrt(t)\n",
    "    return sigma * np.sqrt((1 + delta**2) * norm.cdf(-delta) - delta * norm.pdf(delta)) "
   ]
  },
  {
   "cell_type": "markdown",
   "id": "driving-english",
   "metadata": {
    "papermill": {
     "duration": 0.107213,
     "end_time": "2022-12-21T20:30:27.645331",
     "exception": false,
     "start_time": "2022-12-21T20:30:27.538118",
     "status": "completed"
    },
    "tags": []
   },
   "source": [
    "In this example we define drift as $v = r_f - \\frac{1}{2}\\sigma^2$."
   ]
  },
  {
   "cell_type": "code",
   "execution_count": 51,
   "id": "superb-battery",
   "metadata": {
    "execution": {
     "iopub.execute_input": "2022-12-21T20:30:27.863084Z",
     "iopub.status.busy": "2022-12-21T20:30:27.862290Z",
     "iopub.status.idle": "2022-12-21T20:30:27.865096Z",
     "shell.execute_reply": "2022-12-21T20:30:27.865617Z",
     "shell.execute_reply.started": "2021-11-18T14:37:45.579197Z"
    },
    "papermill": {
     "duration": 0.114708,
     "end_time": "2022-12-21T20:30:27.865836",
     "exception": false,
     "start_time": "2022-12-21T20:30:27.751128",
     "status": "completed"
    },
    "tags": []
   },
   "outputs": [],
   "source": [
    "sigma = 1/68\n",
    "r = 0.05\n",
    "drift = r - 0.5 * sigma**2\n",
    "t = 1"
   ]
  },
  {
   "cell_type": "code",
   "execution_count": 52,
   "id": "controlled-checklist",
   "metadata": {
    "execution": {
     "iopub.execute_input": "2022-12-21T20:30:28.084670Z",
     "iopub.status.busy": "2022-12-21T20:30:28.083753Z",
     "iopub.status.idle": "2022-12-21T20:30:28.088303Z",
     "shell.execute_reply": "2022-12-21T20:30:28.087765Z",
     "shell.execute_reply.started": "2021-11-18T14:37:45.590138Z"
    },
    "papermill": {
     "duration": 0.116832,
     "end_time": "2022-12-21T20:30:28.088457",
     "exception": false,
     "start_time": "2022-12-21T20:30:27.971625",
     "status": "completed"
    },
    "tags": []
   },
   "outputs": [
    {
     "name": "stdout",
     "output_type": "stream",
     "text": [
      "The downside risk is: 1.046%\n"
     ]
    }
   ],
   "source": [
    "dr = downside_risk(drift, r, sigma, t)\n",
    "print(f\"The downside risk is: {round(dr*100, 4)}%\")"
   ]
  },
  {
   "cell_type": "markdown",
   "id": "wanted-poultry",
   "metadata": {
    "papermill": {
     "duration": 0.10637,
     "end_time": "2022-12-21T20:30:28.302704",
     "exception": false,
     "start_time": "2022-12-21T20:30:28.196334",
     "status": "completed"
    },
    "tags": []
   },
   "source": [
    "Note that the formula is extremely sensitive to the choice of distribution and therefore has limited practical applicability in the noisy world of finance. Do not be fooled by the elegant formulas and precise numbers that VaR and downside risk give. Good risk management is a complex topic in itself, which is outside the scope of this notebook. If you are interested in learning quantitative risk management I can highly recommend [this online course by Pasquale Cirillo](https://www.youtube.com/playlist?list=PLgCR5H4IzggHyHw8dalrVHqHAqZfmTeWa)."
   ]
  },
  {
   "cell_type": "markdown",
   "id": "cognitive-imagination",
   "metadata": {
    "papermill": {
     "duration": 0.108355,
     "end_time": "2022-12-21T20:30:28.517069",
     "exception": false,
     "start_time": "2022-12-21T20:30:28.408714",
     "status": "completed"
    },
    "tags": []
   },
   "source": [
    "## The Greeks (Black-Scholes)"
   ]
  },
  {
   "cell_type": "markdown",
   "id": "unauthorized-burst",
   "metadata": {
    "papermill": {
     "duration": 0.107162,
     "end_time": "2022-12-21T20:30:28.736409",
     "exception": false,
     "start_time": "2022-12-21T20:30:28.629247",
     "status": "completed"
    },
    "tags": []
   },
   "source": [
    "![](https://i.redd.it/bioues6bwfy31.jpg)"
   ]
  },
  {
   "cell_type": "markdown",
   "id": "everyday-dating",
   "metadata": {
    "papermill": {
     "duration": 0.107967,
     "end_time": "2022-12-21T20:30:28.951392",
     "exception": false,
     "start_time": "2022-12-21T20:30:28.843425",
     "status": "completed"
    },
    "tags": []
   },
   "source": [
    "UPDATE: After this notebook I started formalizing this code into a library called [blackscholes](https://github.com/CarloLepelaars/blackscholes). Check out that library if you are looking to apply the concepts presented here.\n",
    "\n",
    "\n",
    "An option portfolio can have different dimensions of risk exposure which we would like to manage as an option trader. There are a lot of risk dimensions in option portfolio's, but traders tend to focus on 5 core dimensions which are termed \"The Greeks\". They can be described as follows:\n",
    "\n",
    "Delta $\\Delta$: Rate of change in option price with respect to the underlying stock price (1st derivative). \n",
    "\n",
    "Gamma $\\Gamma$: Rate of change in delta with respect to the underlying stock price (2nd derivative). \n",
    "\n",
    "Vega $\\mathcal{V}$: Rate of change in option price with respect to the volatility ($\\sigma$) of the stock price. The funny thing is Vega is not a Greek letter, but somehow Vega ended up in what people call The Greeks. $\\mathcal{V}$ is actually the Greek letter \"Nu\".\n",
    "\n",
    "Theta $\\Theta$: Rate of change in option price with respect to time (i.e. time decay). In general the price of an option decreases over time given that all other values stay the same. The speed of this time decay differs based on the characteristics of an option and changes as time progresses.\n",
    "\n",
    "Rho $\\mathrm{P}$: Rate of change in option price with respect to interest rate. This value is often small and not so big of an issue in practice, unless we have long-term options that are already deep in-the-money as changes in interest rate will greatly affect the value of the option.\n",
    "\n",
    "Calculation of the Greeks differs slightly between call and put options. Gamma and Vega are calculated the same for calls and puts. \n",
    "\n",
    "To simplify things we will exclude the influence of annual stock dividends denoted by parameter $q$ (except for the greek Epsilon). The original five Greeks have versions which integrates the dividend yield, but this makes the formulas unnecessarily complex for an introduction. If you want to explore how the core Greeks are calculated with dividends check out https://en.wikipedia.org/wiki/Greeks_(finance).\n",
    "\n",
    "We further assume that we calculate the Greeks at time $t=0$. In other words, right as the option is written."
   ]
  },
  {
   "cell_type": "markdown",
   "id": "vanilla-newsletter",
   "metadata": {
    "papermill": {
     "duration": 0.105255,
     "end_time": "2022-12-21T20:30:29.162665",
     "exception": false,
     "start_time": "2022-12-21T20:30:29.057410",
     "status": "completed"
    },
    "tags": []
   },
   "source": [
    "The formula's for calculating The Greeks are defined as follows:\n",
    "\n",
    "$S_t$ = Stock price at time $t$, \n",
    "\n",
    "$K$ = Strike price of option, \n",
    "\n",
    "$T$ is time until expiration in years, \n",
    "\n",
    "$r$ = risk-free interest rate $\\sigma$ = standard deviation (i.e. volatility), \n",
    "\n",
    "$\\Phi$ is the Cumulative Density Function (CDF) of the standard normal distribution ($N(0, 1)$),\n",
    "\n",
    "$\\phi$ is the Probability Density Function (PDF) of $N(0, 1)$.\n",
    "\n",
    "$d_1^{(t)} = \\frac{1}{\\sigma \\sqrt{T}}[ln(\\frac{S_t}{K}) + (r+\\frac{\\sigma^2}{2})T]$\n",
    "\n",
    "$d_2^{(t)} = d_1^{(t)} - \\sigma \\sqrt{T}$\n",
    "\n",
    "**Call options (C)**\n",
    "\n",
    "Delta ($\\Delta$) = $\\frac{\\partial C}{\\partial S} = \\Phi(d_1^{(t)})$\n",
    "\n",
    "Gamma ($\\Gamma$) = $\\frac{\\partial^2 C}{\\partial S^2} = \\frac{\\phi(d_1^{(t)})}{S \\sigma \\sqrt{T}}$\n",
    "\n",
    "Vega ($\\mathcal{V}$) = $\\frac{\\partial C}{\\partial \\sigma} = S \\phi(d_1^{(t)})\\sqrt{T}$\n",
    "\n",
    "Theta $(\\Theta)$ = $\\frac{\\partial C}{\\partial t} = -\\frac{S\\phi(d_1^{(t)}) \\sigma}{2 \\sqrt{T}} - rKe^{-rT}\\Phi(d_2^{(t)})$\n",
    "\n",
    "Rho ($\\mathrm{P}$) = $\\frac{\\partial C}{\\partial r} = KTe^{-rT}\\Phi(d_2^{(t)})$\n",
    "\n",
    "**Put options (P)**\n",
    "\n",
    "Delta ($\\Delta$) = $\\frac{\\partial P}{\\partial S} = \\Phi(d_1^{(t)}) - 1$\n",
    "\n",
    "Gamma ($\\Gamma$) = $\\frac{\\partial^2 P}{\\partial S^2} = \\frac{\\phi(d_1^{(t)})}{S \\sigma \\sqrt{T}}$\n",
    "\n",
    "Vega ($\\mathcal{V}$) = $\\frac{\\partial P}{\\partial \\sigma} = S \\phi(d_1^{(t)})\\sqrt{T}$\n",
    "\n",
    "Theta $(\\Theta)$ = $\\frac{\\partial P}{\\partial t} = -\\frac{S\\phi(d_1^{(t)}) \\sigma}{2 \\sqrt{T}} - rKe^{-rT}\\Phi(-d_2^{(t)})$\n",
    "\n",
    "Rho ($\\rho$) = $\\frac{\\partial P}{\\partial r} = -KTe^{-rT}\\Phi(-d_2^{(t)})$"
   ]
  },
  {
   "cell_type": "markdown",
   "id": "suffering-girlfriend",
   "metadata": {
    "papermill": {
     "duration": 0.105069,
     "end_time": "2022-12-21T20:30:29.377650",
     "exception": false,
     "start_time": "2022-12-21T20:30:29.272581",
     "status": "completed"
    },
    "tags": []
   },
   "source": [
    "### Advanced: Down the Greek rabbit hole\n",
    "\n",
    "While the five Greeks discussed above are still the core dimensions, further research and the rise in computing power has led us into exploring more complex dimensions. This allows us to hedge a lot more sophistically and develop trading strategies to profit from very specific situations. Here are some of the more obscure Greeks.\n",
    "\n",
    "#### Lambda\n",
    "\n",
    "Lambda ($\\lambda$) is the percentage change in option value per percentage change in the underlying price, also called gearing.\n",
    "\n",
    "Lambda call = $\\frac{\\partial C}{\\partial S} \\times \\frac{S}{C} = \\Delta \\frac{S}{C}$.\n",
    "\n",
    "Lambda put = $\\frac{\\partial P}{\\partial S} \\times \\frac{S}{P} = \\Delta \\frac{S}{P}$.\n",
    "\n",
    "#### Epsilon\n",
    "\n",
    "Epsilon ($\\epsilon$) is the percentage change in option value per percentage change in the underlying dividend yield. It informs us about the risk in our option portfolio regarding changes in dividend yield. \n",
    "\n",
    "Epsilon call = $\\frac{\\partial C}{\\partial q}$ = $-ST e^{-qT} \\Phi(d_1^{(t)})$\n",
    "\n",
    "Epsilon put = $\\frac{\\partial P}{\\partial q}$ = $ST e^{-qT} \\Phi(-d_1^{(t)})$\n",
    "\n",
    "#### Vanna\n",
    "\n",
    "Vanna is the change is Vega per percentage change of the underlying stock price.\n",
    "\n",
    "Vanna = $\\frac{\\partial \\mathcal{C}}{\\partial S}$ = $-\\phi(d_1^{(t)}) \\frac{d_2^{(t)}}{\\sigma}$\n",
    "\n",
    "Vanna is calculated the same for calls and puts.\n",
    "\n",
    "#### Charm\n",
    "\n",
    "Charm (delta decay) denotes the rate of change of delta over time.\n",
    "\n",
    "Charm = $\\frac{\\partial^2 C}{\\partial T \\partial S}$ = $-\\phi(d_1^{(t)}) \\frac{2rT - d_2^{(t)}\\sigma \\sqrt{T}}{2T\\sigma \\sqrt{T}}$\n",
    "\n",
    "Charm is calculated the same for calls and puts except if dividends are included.\n",
    "\n",
    "#### Vomma\n",
    "\n",
    "Vomma computes the second order effect of volatility (vega). More clearly, it can be described as \"vega convexity\".\n",
    "\n",
    "Vomma = $\\frac{\\partial^2 C}{\\partial \\sigma^2}$ = $S \\phi(d_1^{(t)})\\sqrt{T}\\frac{d_1^{(t)} d_2^{(t)}}{\\sigma}$ = $\\mathcal{V}\\frac{d_1^{(t)} d_2^{(t)}}{\\sigma}$\n",
    "\n",
    "Since Vega is the same for calls and puts, the same is the case for Vomma.\n",
    "\n",
    "#### Veta\n",
    "\n",
    "Veta shows the rate of change in vega with respect to time.\n",
    "\n",
    "Veta = $\\frac{\\partial^2 C}{\\partial \\sigma \\partial T}$ = $-S \\phi(d_1^{(t)}) \\sqrt{T} (\\frac{r d_1^{(t)}}{\\sigma \\sqrt{T}} - \\frac{1+d_1^{(t)} d_2^{(t)}}{2 T})$\n",
    "\n",
    "Veta is calculated the same for calls and puts.\n",
    "\n",
    "#### Speed\n",
    "\n",
    "Speed is the rate of change in Gamma ($\\Gamma$) with respect to changes in underlying asset price. This makes it a third-order effect.\n",
    "\n",
    "\n",
    "Speed = $\\frac{\\partial^3 C}{\\partial S^3}$ = $\\frac{\\partial \\Gamma}{\\partial S}$ = $\\frac{\\phi(d_1^{(t)})}{S^2 \\sigma \\sqrt{T}}(\\frac{d_1^{(t)}}{\\sigma \\sqrt{T}} + 1)$\n",
    "\n",
    "It is calculated the same for calls and puts, since Gamma is also the same for calls and puts.\n",
    "\n",
    "#### Zomma\n",
    "\n",
    "Zomma measure the rate of change of gamma with respect to change in volatility. Note that this is a third order greek and can be used to monitor the effectiveness of gamma hedging in an option portfolio. \n",
    "\n",
    "Zomma = $\\frac{\\partial^3 C}{\\partial S^2 \\partial \\sigma}$ =  $\\frac{\\partial \\Gamma}{\\partial \\sigma}$ = $\\frac{\\phi(d_1^{(t)})(d_1^{(t)}d_2^{(t)}-1)}{S \\sigma^2 \\sqrt{T}}$\n",
    "\n",
    "Again it is calculated the same for calls and puts, since Gamma is also the same for calls and puts.\n",
    "\n",
    "\n",
    "#### Color\n",
    "\n",
    "Color is gamma's rate of change with respect to time. It can also be thought of the gamma per year.\n",
    "\n",
    "Color = $\\frac{\\partial^3 C}{\\partial S^2 \\partial T} = \\frac{\\partial \\Gamma}{\\partial T} = \\frac{\\phi(d_1^{(t)})}{2ST\\sigma\\sqrt{T}}[2T + 1 + \\frac{2rT - d_2^{(t)}\\sigma \\sqrt{T}}{\\sigma \\sqrt{T}}d_1^{(t)}]$\n",
    "\n",
    "It is calculated the same for calls and puts.\n",
    "\n",
    "#### Ultima\n",
    "\n",
    "The last greek we will discuss, Ultima, is a third order greek on the option volatility. More technically, it measures the sensitivity of vomma with respect to volatility. Recall that Vomma measures the 2nd order effect of volatility and Vega the 1st order effect.\n",
    "\n",
    "Ultima = $\\frac{\\partial^3 C}{\\partial sigma^3} = \\frac{\\partial vomma}{\\partial \\sigma} = \\frac{\\mathcal{V}}{\\sigma^2}[d_1 d_2 (1-d_1 d_2) + d_1^2 + d_2^2]$\n",
    "\n",
    "Vega is the same for call and puts and as Ultima derives its value from Vega it is the same for calls and puts.\n",
    "\n",
    "----------------------------------------------------------------------------------------\n",
    "Below you will find Python implementations for all the mentioned Greeks."
   ]
  },
  {
   "cell_type": "code",
   "execution_count": 53,
   "id": "external-center",
   "metadata": {
    "execution": {
     "iopub.execute_input": "2022-12-21T20:30:29.608071Z",
     "iopub.status.busy": "2022-12-21T20:30:29.606623Z",
     "iopub.status.idle": "2022-12-21T20:30:29.629188Z",
     "shell.execute_reply": "2022-12-21T20:30:29.628334Z",
     "shell.execute_reply.started": "2021-11-18T14:37:45.604948Z"
    },
    "papermill": {
     "duration": 0.145965,
     "end_time": "2022-12-21T20:30:29.629364",
     "exception": false,
     "start_time": "2022-12-21T20:30:29.483399",
     "status": "completed"
    },
    "tags": []
   },
   "outputs": [],
   "source": [
    "class BlackScholesGreeks:\n",
    "    \"\"\" \n",
    "    Class to calculate (European) call and put option greeks.\n",
    "    \n",
    "    :param S: Price of underlying stock\n",
    "    :param K: Strike price\n",
    "    :param T: Time till expiration (in years)\n",
    "    :param r: Risk-free interest rate (0.05 indicates 5%)\n",
    "    :param sigma: Volatility (standard deviation) of stock (0.15 indicates 15%)\n",
    "    :param q: The annual dividend yield of a stock\n",
    "    \"\"\"\n",
    "    @staticmethod\n",
    "    def _d1(S, K, T, r, sigma):\n",
    "        return (1 / (sigma * np.sqrt(T))) * (np.log(S/K) + (r + sigma**2 / 2) * T)\n",
    "    \n",
    "    def _d2(self, S, K, T, r, sigma):\n",
    "        return self._d1(S, K, T, r, sigma) - sigma * np.sqrt(T)\n",
    "    \n",
    "    def call_delta(self, S, K, T, r, sigma):\n",
    "        d1 = self._d1(S, K, T, r, sigma)\n",
    "        return norm.cdf(d1)\n",
    "    \n",
    "    def call_gamma(self, S, K, T, r, sigma):\n",
    "        d1 = self._d1(S, K, T, r, sigma)\n",
    "        return norm.pdf(d1) / (S * sigma * np.sqrt(T))\n",
    "    \n",
    "    def call_vega(self, S, K, T, r, sigma):\n",
    "        d1 = self._d1(S, K, T, r, sigma)\n",
    "        return S * norm.pdf(d1) * np.sqrt(T)\n",
    "    \n",
    "    def call_theta(self, S, K, T, r, sigma):\n",
    "        d1 = self._d1(S, K, T, r, sigma)\n",
    "        d2 = self._d2(S, K, T, r, sigma)\n",
    "        return - ((S * norm.pdf(d1) * sigma) / (2 * np.sqrt(T))) - r * K * np.exp(-r*T) * norm.cdf(d2)\n",
    "    \n",
    "    def call_rho(self, S, K, T, r, sigma):\n",
    "        d2 = self._d2(S, K, T, r, sigma)\n",
    "        return K * T * np.exp(-r*T) * norm.cdf(d2)\n",
    "    \n",
    "    def call_epsilon(self, S, K, T, r, sigma, q):\n",
    "        d1 = self._d1(S, K, T, r, sigma)\n",
    "        return -S * T * np.exp(-q*T) * norm.cdf(d1)\n",
    "    \n",
    "    def put_delta(self, S, K, T, r, sigma):\n",
    "        d1 = self._d1(S, K, T, r, sigma)\n",
    "        return norm.cdf(d1) - 1\n",
    "    \n",
    "    def put_gamma(self, S, K, T, r, sigma):\n",
    "        d1 = self._d1(S, K, T, r, sigma)\n",
    "        return norm.pdf(d1) / (S * sigma * np.sqrt(T))\n",
    "    \n",
    "    def put_vega(self, S, K, T, r, sigma):\n",
    "        d1 = self._d1(S, K, T, r, sigma)\n",
    "        return S * norm.pdf(d1) * np.sqrt(T)\n",
    "    \n",
    "    def put_theta(self, S, K, T, r, sigma):\n",
    "        d1 = self._d1(S, K, T, r, sigma)\n",
    "        d2 = self._d2(S, K, T, r, sigma)\n",
    "        return - ((S * norm.pdf(d1) * sigma) / (2 * np.sqrt(T))) + r * K * np.exp(-r*T) * norm.cdf(-d2)\n",
    "    \n",
    "    def put_rho(self, S, K, T, r, sigma):\n",
    "        d2 = self._d2(S, K, T, r, sigma)\n",
    "        return - K * T * np.exp(-r*T) * norm.cdf(-d2)\n",
    "    \n",
    "    def put_epsilon(self, S, K, T, r, sigma, q):\n",
    "        d1 = self._d1(S, K, T, r, sigma)\n",
    "        return S * T * np.exp(-q*T) * norm.cdf(-d1)\n",
    "    \n",
    "    def vanna(self, S, K, T, r, sigma):\n",
    "        d1 = self._d1(S, K, T, r, sigma)\n",
    "        d2 = self._d2(S, K, T, r, sigma)\n",
    "        return norm.pdf(d1) * d2 / sigma\n",
    "    \n",
    "    def charm(self, S, K, T, r, sigma):\n",
    "        d1 = self._d1(S, K, T, r, sigma)\n",
    "        d2 = self._d2(S, K, T, r, sigma)\n",
    "        return -norm.pdf(d1) * ((2 * r * T - d2 * sigma * np.sqrt(T)) / (2 * T * sigma * np.sqrt(T)))\n",
    "    \n",
    "    def vomma(self, S, K, T, r, sigma):\n",
    "        d1 = self._d1(S, K, T, r, sigma)\n",
    "        d2 = self._d2(S, K, T, r, sigma)\n",
    "        return S * norm.pdf(d1) * np.sqrt(T) * ((d1 * d2) / sigma)\n",
    "    \n",
    "    def veta(self, S, K, T, r, sigma):\n",
    "        d1 = self._d1(S, K, T, r, sigma)\n",
    "        d2 = self._d2(S, K, T, r, sigma)\n",
    "        return -S * norm.pdf(d1) * np.sqrt(T) * (r * d1 / (sigma * np.sqrt(T)) - (1 + d1 * d2) / (2 * T))\n",
    "    \n",
    "    def zomma(self, S, K, T, r, sigma):\n",
    "        d1 = self._d1(S, K, T, r, sigma)\n",
    "        d2 = self._d2(S, K, T, r, sigma)\n",
    "        return norm.pdf(d1) * (d1*d2 - 1) / (S * sigma**2 * np.sqrt(T))\n",
    "    \n",
    "    def color(self, S, K, T, r, sigma):\n",
    "        d1 = self._d1(S, K, T, r, sigma)\n",
    "        d2 = self._d2(S, K, T, r, sigma)\n",
    "        return norm.pdf(d1) / (2*S*T*sigma*np.sqrt(T)) * (2*T + 1 + ((2*r*T - d2*sigma*np.sqrt(T)) / sigma*np.sqrt(T)) * d1)\n",
    "    \n",
    "    def ultima(self, S, K, T, r, sigma):\n",
    "        d1 = self._d1(S, K, T, r, sigma)\n",
    "        d2 = self._d2(S, K, T, r, sigma)\n",
    "        vega = self.call_vega(S, K, T, r, sigma)\n",
    "        return -vega/sigma**2 * (d1 * d2 * (1-d1*d2) + d1**2 + d2**2)"
   ]
  },
  {
   "cell_type": "code",
   "execution_count": 54,
   "id": "owned-poetry",
   "metadata": {
    "execution": {
     "iopub.execute_input": "2022-12-21T20:30:29.855491Z",
     "iopub.status.busy": "2022-12-21T20:30:29.854711Z",
     "iopub.status.idle": "2022-12-21T20:30:29.858383Z",
     "shell.execute_reply": "2022-12-21T20:30:29.857723Z",
     "shell.execute_reply.started": "2021-11-18T14:37:45.648919Z"
    },
    "papermill": {
     "duration": 0.118326,
     "end_time": "2022-12-21T20:30:29.858550",
     "exception": false,
     "start_time": "2022-12-21T20:30:29.740224",
     "status": "completed"
    },
    "tags": []
   },
   "outputs": [],
   "source": [
    "S = 36 # Stock price\n",
    "K = 35 # Strike price\n",
    "T = 2/12 # Time till expiration (in years)\n",
    "r = 0.05 # Risk-free interest rate\n",
    "sigma = np.sqrt(1/68) # Volatility (standard deviation)"
   ]
  },
  {
   "cell_type": "markdown",
   "id": "oriented-project",
   "metadata": {
    "papermill": {
     "duration": 0.106313,
     "end_time": "2022-12-21T20:30:30.075833",
     "exception": false,
     "start_time": "2022-12-21T20:30:29.969520",
     "status": "completed"
    },
    "tags": []
   },
   "source": [
    "### 5 Core Greeks"
   ]
  },
  {
   "cell_type": "code",
   "execution_count": 55,
   "id": "comfortable-basket",
   "metadata": {
    "execution": {
     "iopub.execute_input": "2022-12-21T20:30:30.296043Z",
     "iopub.status.busy": "2022-12-21T20:30:30.294888Z",
     "iopub.status.idle": "2022-12-21T20:30:30.305034Z",
     "shell.execute_reply": "2022-12-21T20:30:30.305585Z",
     "shell.execute_reply.started": "2021-11-18T14:37:45.663933Z"
    },
    "papermill": {
     "duration": 0.123027,
     "end_time": "2022-12-21T20:30:30.305778",
     "exception": false,
     "start_time": "2022-12-21T20:30:30.182751",
     "status": "completed"
    },
    "tags": []
   },
   "outputs": [
    {
     "name": "stdout",
     "output_type": "stream",
     "text": [
      "----- Call option -----\n",
      "Delta: 0.7770006122976156\n",
      "Gamma: 0.16742428402928158\n",
      "Vega: 4.385486164316654\n",
      "Theta: -2.917805075810147\n",
      "Rho: 4.407833779613507\n"
     ]
    }
   ],
   "source": [
    "print(\"----- Call option -----\")\n",
    "print(f\"Delta: {BlackScholesGreeks().call_delta(S, K, T, r, sigma)}\")\n",
    "print(f\"Gamma: {BlackScholesGreeks().call_gamma(S, K, T, r, sigma)}\")\n",
    "print(f\"Vega: {BlackScholesGreeks().call_vega(S, K, T, r, sigma)}\")\n",
    "print(f\"Theta: {BlackScholesGreeks().call_theta(S, K, T, r, sigma)}\")\n",
    "print(f\"Rho: {BlackScholesGreeks().call_rho(S, K, T, r, sigma)}\")"
   ]
  },
  {
   "cell_type": "code",
   "execution_count": 56,
   "id": "portuguese-cursor",
   "metadata": {
    "execution": {
     "iopub.execute_input": "2022-12-21T20:30:30.523934Z",
     "iopub.status.busy": "2022-12-21T20:30:30.522931Z",
     "iopub.status.idle": "2022-12-21T20:30:30.533496Z",
     "shell.execute_reply": "2022-12-21T20:30:30.532701Z",
     "shell.execute_reply.started": "2021-11-18T14:37:45.682001Z"
    },
    "papermill": {
     "duration": 0.12012,
     "end_time": "2022-12-21T20:30:30.533674",
     "exception": false,
     "start_time": "2022-12-21T20:30:30.413554",
     "status": "completed"
    },
    "tags": []
   },
   "outputs": [
    {
     "name": "stdout",
     "output_type": "stream",
     "text": [
      "----- Put option -----\n",
      "Delta: -0.22299938770238437\n",
      "Gamma: 0.16742428402928158\n",
      "Vega: 4.385486164316654\n",
      "Theta: -1.1823278136921145\n",
      "Rho: -1.3770904274466018\n"
     ]
    }
   ],
   "source": [
    "print(\"----- Put option -----\")\n",
    "print(f\"Delta: {BlackScholesGreeks().put_delta(S, K, T, r, sigma)}\")\n",
    "print(f\"Gamma: {BlackScholesGreeks().put_gamma(S, K, T, r, sigma)}\")\n",
    "print(f\"Vega: {BlackScholesGreeks().put_vega(S, K, T, r, sigma)}\")\n",
    "print(f\"Theta: {BlackScholesGreeks().put_theta(S, K, T, r, sigma)}\")\n",
    "print(f\"Rho: {BlackScholesGreeks().put_rho(S, K, T, r, sigma)}\")"
   ]
  },
  {
   "cell_type": "markdown",
   "id": "handy-publisher",
   "metadata": {
    "papermill": {
     "duration": 0.10751,
     "end_time": "2022-12-21T20:30:30.747887",
     "exception": false,
     "start_time": "2022-12-21T20:30:30.640377",
     "status": "completed"
    },
    "tags": []
   },
   "source": [
    "### Advanced Greeks"
   ]
  },
  {
   "cell_type": "code",
   "execution_count": 57,
   "id": "invisible-joyce",
   "metadata": {
    "execution": {
     "iopub.execute_input": "2022-12-21T20:30:30.978188Z",
     "iopub.status.busy": "2022-12-21T20:30:30.977125Z",
     "iopub.status.idle": "2022-12-21T20:30:30.979887Z",
     "shell.execute_reply": "2022-12-21T20:30:30.980389Z",
     "shell.execute_reply.started": "2021-11-18T14:37:45.697783Z"
    },
    "papermill": {
     "duration": 0.122731,
     "end_time": "2022-12-21T20:30:30.980611",
     "exception": false,
     "start_time": "2022-12-21T20:30:30.857880",
     "status": "completed"
    },
    "tags": []
   },
   "outputs": [],
   "source": [
    "q = 0.05 # 5% annual dividend yield"
   ]
  },
  {
   "cell_type": "code",
   "execution_count": 58,
   "id": "impressed-district",
   "metadata": {
    "execution": {
     "iopub.execute_input": "2022-12-21T20:30:31.201715Z",
     "iopub.status.busy": "2022-12-21T20:30:31.200992Z",
     "iopub.status.idle": "2022-12-21T20:30:31.213731Z",
     "shell.execute_reply": "2022-12-21T20:30:31.213026Z",
     "shell.execute_reply.started": "2021-11-18T14:37:45.704865Z"
    },
    "papermill": {
     "duration": 0.124228,
     "end_time": "2022-12-21T20:30:31.213897",
     "exception": false,
     "start_time": "2022-12-21T20:30:31.089669",
     "status": "completed"
    },
    "tags": []
   },
   "outputs": [
    {
     "name": "stdout",
     "output_type": "stream",
     "text": [
      "Call epsilon: -4.623315069580461\n",
      "Put epsilon: 1.326892686252795\n",
      "Vanna: 1.7534291743210113\n",
      "Charm: 0.3365398498736247\n",
      "Vomma: 19.639414810264917\n",
      "Veta: 16.925898290489435\n",
      "Zomma: -0.6308439620252236\n",
      "Color: 0.645712879273512\n",
      "Ultima: -398.6324962578006\n"
     ]
    }
   ],
   "source": [
    "print(f\"Call epsilon: {BlackScholesGreeks().call_epsilon(S, K, T, r, sigma, q)}\")\n",
    "print(f\"Put epsilon: {BlackScholesGreeks().put_epsilon(S, K, T, r, sigma, q)}\")\n",
    "print(f\"Vanna: {BlackScholesGreeks().vanna(S, K, T, r, sigma)}\")\n",
    "print(f\"Charm: {BlackScholesGreeks().charm(S, K, T, r, sigma)}\")\n",
    "print(f\"Vomma: {BlackScholesGreeks().vomma(S, K, T, r, sigma)}\")\n",
    "print(f\"Veta: {BlackScholesGreeks().veta(S, K, T, r, sigma)}\")\n",
    "print(f\"Zomma: {BlackScholesGreeks().zomma(S, K, T, r, sigma)}\")\n",
    "print(f\"Color: {BlackScholesGreeks().color(S, K, T, r, sigma)}\")\n",
    "print(f\"Ultima: {BlackScholesGreeks().ultima(S, K, T, r, sigma)}\")"
   ]
  },
  {
   "cell_type": "markdown",
   "id": "explicit-science",
   "metadata": {
    "papermill": {
     "duration": 0.106517,
     "end_time": "2022-12-21T20:30:31.431171",
     "exception": false,
     "start_time": "2022-12-21T20:30:31.324654",
     "status": "completed"
    },
    "tags": []
   },
   "source": [
    "## Option pricing with dividends"
   ]
  },
  {
   "cell_type": "markdown",
   "id": "proof-savings",
   "metadata": {
    "papermill": {
     "duration": 0.108988,
     "end_time": "2022-12-21T20:30:31.646974",
     "exception": false,
     "start_time": "2022-12-21T20:30:31.537986",
     "status": "completed"
    },
    "tags": []
   },
   "source": [
    "We can adjust the Black-Scholes formula to account for dividends. Most of the formula will stay the same, but we now have an additional parameter $q$, indicating the annual dividend yield. The Black-Scholes model assumes that the underlying share price drops when a dividend is paid as money is taken out of the underlying business. Therefore, a dividend is discounted by multiplying parts of the formula by $e^{-qT}$.\n",
    "\n",
    "$S_t$ = Stock price at time $t$, $K$ = Strike price of option, $T$ is time till expiration in years, $r$ = risk-free interest rate $\\sigma$ = standard deviation (i.e. volatility), $q$=Annual dividend yield.\n",
    "\n",
    "$\\Phi$ is the Cumulative Density Function (CDF) of the standard normal distribution ($N(0, 1)$).\n",
    "\n",
    "\n",
    "$C(S_t, t) = \\Phi(d_1^{(t)})S_t e^{-qT} - \\Phi(d_2^{(t)})Ke^{-rT}$\n",
    "\n",
    "$P(S_t, t) = \\Phi(-d_2^{(t)})Ke^{-rT} - \\Phi(-d_1^{(t)})S_t e^{-qT}$\n",
    "\n",
    "where $d_1^{(t)} = \\frac{1}{\\sigma \\sqrt{T}}[ln(\\frac{S_t e^{-qT}}{K}) + (r+\\frac{\\sigma^2}{2})T]$\n",
    "\n",
    "$d_2^{(t)} = d_1^{(t)} - \\sigma \\sqrt{T}$"
   ]
  },
  {
   "cell_type": "code",
   "execution_count": 59,
   "id": "proper-belfast",
   "metadata": {
    "execution": {
     "iopub.execute_input": "2022-12-21T20:30:31.869184Z",
     "iopub.status.busy": "2022-12-21T20:30:31.868402Z",
     "iopub.status.idle": "2022-12-21T20:30:31.881500Z",
     "shell.execute_reply": "2022-12-21T20:30:31.880811Z",
     "shell.execute_reply.started": "2021-11-18T14:37:45.723865Z"
    },
    "papermill": {
     "duration": 0.126674,
     "end_time": "2022-12-21T20:30:31.881692",
     "exception": false,
     "start_time": "2022-12-21T20:30:31.755018",
     "status": "completed"
    },
    "tags": []
   },
   "outputs": [],
   "source": [
    "class BlackScholesDividend:\n",
    "    \"\"\" \n",
    "    Class to calculate (European) call and put option prices through the Black-Scholes formula \n",
    "    with dividends\n",
    "    \n",
    "    :param S: Price of underlying stock\n",
    "    :param K: Strike price\n",
    "    :param T: Time till expiration (in years)\n",
    "    :param r: Risk-free interest rate (0.05 indicates 5%)\n",
    "    :param sigma: Volatility (standard deviation) of stock (0.15 indicates 15%)\n",
    "    :param q: Annual dividend yield (0.05 indicates 5%)\n",
    "    \"\"\"\n",
    "    @staticmethod\n",
    "    def _d1(S, K, T, r, sigma, q):\n",
    "        return (1 / (sigma * np.sqrt(T))) * (np.log(S * np.exp(-q*T) / K) + (r + sigma**2 / 2) * T)\n",
    "    \n",
    "    def _d2(self, S, K, T, r, sigma, q):\n",
    "        return self._d1(S, K, T, r, sigma, q) - sigma * np.sqrt(T)\n",
    "    \n",
    "    def call_price(self, S, K, T, r, sigma, q):\n",
    "        \"\"\" Main method for calculating price of a call option \"\"\"\n",
    "        d1 = self._d1(S, K, T, r, sigma, q)\n",
    "        d2 = self._d2(S, K, T, r, sigma, q)\n",
    "        return norm.cdf(d1) * S * np.exp(-q*T) - norm.cdf(d2) * K * np.exp(-r*T)\n",
    "    \n",
    "    def put_price(self, S, K, T, r, sigma, q):\n",
    "        \"\"\" Main method for calculating price of a put option \"\"\"\n",
    "        d1 = self._d1(S, K, T, r, sigma, q)\n",
    "        d2 = self._d2(S, K, T, r, sigma, q)\n",
    "        return norm.cdf(-d2) * K * np.exp(-r*T) - norm.cdf(-d1) * S * np.exp(-q*T)\n",
    "    \n",
    "    def call_in_the_money(self, S, K, T, r, sigma, q):\n",
    "        \"\"\" \n",
    "        Calculate probability that call option will be in the money at\n",
    "        maturity according to Black-Scholes.\n",
    "        \"\"\"\n",
    "        d2 = self._d2(S, K, T, r, sigma, q)\n",
    "        return norm.cdf(d2)\n",
    "    \n",
    "    def put_in_the_money(self, S, K, T, r, sigma, q):\n",
    "        \"\"\" \n",
    "        Calculate probability that put option will be in the money at\n",
    "        maturity according to Black-Scholes.\n",
    "        \"\"\"\n",
    "        d2 = self._d2(S, K, T, r, sigma, q)\n",
    "        return 1 - norm.cdf(d2)"
   ]
  },
  {
   "cell_type": "code",
   "execution_count": 60,
   "id": "national-scratch",
   "metadata": {
    "execution": {
     "iopub.execute_input": "2022-12-21T20:30:32.106577Z",
     "iopub.status.busy": "2022-12-21T20:30:32.105783Z",
     "iopub.status.idle": "2022-12-21T20:30:32.111424Z",
     "shell.execute_reply": "2022-12-21T20:30:32.112137Z",
     "shell.execute_reply.started": "2021-11-18T14:37:45.739819Z"
    },
    "papermill": {
     "duration": 0.122627,
     "end_time": "2022-12-21T20:30:32.112346",
     "exception": false,
     "start_time": "2022-12-21T20:30:31.989719",
     "status": "completed"
    },
    "tags": []
   },
   "outputs": [],
   "source": [
    "S = 44 # Stock price\n",
    "K = 45 # Strike price\n",
    "T = 2/12 # Time till expiration (in years)\n",
    "r = 0.06 # Risk-free interest rate\n",
    "sigma = np.sqrt(0.2) # Volatility (standard deviation)\n",
    "q = 0.05 # Annual dividend yield"
   ]
  },
  {
   "cell_type": "code",
   "execution_count": 61,
   "id": "bottom-progressive",
   "metadata": {
    "execution": {
     "iopub.execute_input": "2022-12-21T20:30:32.339663Z",
     "iopub.status.busy": "2022-12-21T20:30:32.338674Z",
     "iopub.status.idle": "2022-12-21T20:30:32.342205Z",
     "shell.execute_reply": "2022-12-21T20:30:32.342863Z",
     "shell.execute_reply.started": "2021-11-18T14:37:45.754723Z"
    },
    "papermill": {
     "duration": 0.118759,
     "end_time": "2022-12-21T20:30:32.343068",
     "exception": false,
     "start_time": "2022-12-21T20:30:32.224309",
     "status": "completed"
    },
    "tags": []
   },
   "outputs": [
    {
     "data": {
      "text/plain": [
       "2.7692191859846638"
      ]
     },
     "execution_count": 61,
     "metadata": {},
     "output_type": "execute_result"
    }
   ],
   "source": [
    "BlackScholesDividend().call_price(S, K, T, r, sigma, q)"
   ]
  },
  {
   "cell_type": "code",
   "execution_count": 62,
   "id": "virtual-fortune",
   "metadata": {
    "execution": {
     "iopub.execute_input": "2022-12-21T20:30:32.569667Z",
     "iopub.status.busy": "2022-12-21T20:30:32.568891Z",
     "iopub.status.idle": "2022-12-21T20:30:32.575897Z",
     "shell.execute_reply": "2022-12-21T20:30:32.576668Z",
     "shell.execute_reply.started": "2021-11-18T14:37:45.772234Z"
    },
    "papermill": {
     "duration": 0.122634,
     "end_time": "2022-12-21T20:30:32.576954",
     "exception": false,
     "start_time": "2022-12-21T20:30:32.454320",
     "status": "completed"
    },
    "tags": []
   },
   "outputs": [
    {
     "data": {
      "text/plain": [
       "3.686604828586688"
      ]
     },
     "execution_count": 62,
     "metadata": {},
     "output_type": "execute_result"
    }
   ],
   "source": [
    "BlackScholesDividend().put_price(S, K, T, r, sigma, q)"
   ]
  },
  {
   "cell_type": "markdown",
   "id": "responsible-georgia",
   "metadata": {
    "papermill": {
     "duration": 0.108017,
     "end_time": "2022-12-21T20:30:32.800332",
     "exception": false,
     "start_time": "2022-12-21T20:30:32.692315",
     "status": "completed"
    },
    "tags": []
   },
   "source": [
    "## BONUS: Speeding up option price calculations"
   ]
  },
  {
   "cell_type": "markdown",
   "id": "indie-minister",
   "metadata": {
    "papermill": {
     "duration": 0.106767,
     "end_time": "2022-12-21T20:30:33.014722",
     "exception": false,
     "start_time": "2022-12-21T20:30:32.907955",
     "status": "completed"
    },
    "tags": []
   },
   "source": [
    "You might have noticed that working with Black-Scholes involves computing the cumulative distribution function (CDF) ($\\Phi(.)$) and probability density function (PDF) ($\\phi(.))$ of a standard normal distribution $N(0, 1)$. The library we use for this (scipy.norm) does multiple checks under the hood and can therefore be sped up substantially. We also leverage some other tricks to optimize our calculations.\n",
    "\n",
    "### 1. scipy.special.ndtr\n",
    "\n",
    "The first trick is to replace [norm.cdf](https://docs.scipy.org/doc/scipy/reference/generated/scipy.stats.norm.html) by [scipy.special.ndtr](https://docs.scipy.org/doc/scipy/reference/generated/scipy.special.ndtr.html). ndtr is a function that norm.cdf also calls under the hood, but in this case we skip the datatype checks. Let's take the calculation of a call option's Theta as an example. We compare the run time with our original implementation from the section on The Greeks."
   ]
  },
  {
   "cell_type": "code",
   "execution_count": 63,
   "id": "atlantic-satellite",
   "metadata": {
    "execution": {
     "iopub.execute_input": "2022-12-21T20:30:33.235384Z",
     "iopub.status.busy": "2022-12-21T20:30:33.234268Z",
     "iopub.status.idle": "2022-12-21T20:30:33.240038Z",
     "shell.execute_reply": "2022-12-21T20:30:33.240575Z",
     "shell.execute_reply.started": "2021-11-18T14:37:45.783473Z"
    },
    "papermill": {
     "duration": 0.118561,
     "end_time": "2022-12-21T20:30:33.240800",
     "exception": false,
     "start_time": "2022-12-21T20:30:33.122239",
     "status": "completed"
    },
    "tags": []
   },
   "outputs": [],
   "source": [
    "S = 36 # Stock price\n",
    "K = 35 # Strike price\n",
    "T = 2/12 # Time till expiration (in years)\n",
    "r = 0.05 # Risk-free interest rate\n",
    "sigma = np.sqrt(1/68) # Volatility (standard deviation)"
   ]
  },
  {
   "cell_type": "code",
   "execution_count": 64,
   "id": "color-alberta",
   "metadata": {
    "execution": {
     "iopub.execute_input": "2022-12-21T20:30:33.459316Z",
     "iopub.status.busy": "2022-12-21T20:30:33.458298Z",
     "iopub.status.idle": "2022-12-21T20:30:33.466177Z",
     "shell.execute_reply": "2022-12-21T20:30:33.466663Z",
     "shell.execute_reply.started": "2021-11-18T14:37:45.792817Z"
    },
    "papermill": {
     "duration": 0.119288,
     "end_time": "2022-12-21T20:30:33.466908",
     "exception": false,
     "start_time": "2022-12-21T20:30:33.347620",
     "status": "completed"
    },
    "tags": []
   },
   "outputs": [],
   "source": [
    "from scipy.special import ndtr\n",
    "\n",
    "def _d1(S, K, T, r, sigma):\n",
    "    return (1 / (sigma * np.sqrt(T))) * (np.log(S/K) + (r + sigma**2 / 2) * T)\n",
    "    \n",
    "def _d2(S, K, T, r, sigma):\n",
    "    return _d1(S, K, T, r, sigma) - sigma * np.sqrt(T)\n",
    "    \n",
    "def fast_theta(S, K, T, r, sigma):\n",
    "    d1 = _d1(S, K, T, r, sigma)\n",
    "    d2 = _d2(S, K, T, r, sigma)\n",
    "    return - ((S * norm.pdf(d1) * sigma) / (2 * np.sqrt(T))) - r * K * np.exp(-r*T) * ndtr(d2)"
   ]
  },
  {
   "cell_type": "code",
   "execution_count": 65,
   "id": "french-burden",
   "metadata": {
    "execution": {
     "iopub.execute_input": "2022-12-21T20:30:33.713225Z",
     "iopub.status.busy": "2022-12-21T20:30:33.712169Z",
     "iopub.status.idle": "2022-12-21T20:30:33.721254Z",
     "shell.execute_reply": "2022-12-21T20:30:33.720572Z",
     "shell.execute_reply.started": "2021-11-18T14:37:45.804149Z"
    },
    "papermill": {
     "duration": 0.146151,
     "end_time": "2022-12-21T20:30:33.721466",
     "exception": false,
     "start_time": "2022-12-21T20:30:33.575315",
     "status": "completed"
    },
    "tags": []
   },
   "outputs": [
    {
     "data": {
      "text/plain": [
       "-2.917805075810147"
      ]
     },
     "execution_count": 65,
     "metadata": {},
     "output_type": "execute_result"
    }
   ],
   "source": [
    "bsg = BlackScholesGreeks()\n",
    "bsg.call_theta(S, K, T, r, sigma)"
   ]
  },
  {
   "cell_type": "code",
   "execution_count": 66,
   "id": "magnetic-colombia",
   "metadata": {
    "execution": {
     "iopub.execute_input": "2022-12-21T20:30:33.951757Z",
     "iopub.status.busy": "2022-12-21T20:30:33.949679Z",
     "iopub.status.idle": "2022-12-21T20:30:35.927119Z",
     "shell.execute_reply": "2022-12-21T20:30:35.926338Z",
     "shell.execute_reply.started": "2021-11-18T14:37:45.821411Z"
    },
    "papermill": {
     "duration": 2.092818,
     "end_time": "2022-12-21T20:30:35.927313",
     "exception": false,
     "start_time": "2022-12-21T20:30:33.834495",
     "status": "completed"
    },
    "tags": []
   },
   "outputs": [
    {
     "name": "stdout",
     "output_type": "stream",
     "text": [
      "260 µs ± 37 µs per loop (mean ± std. dev. of 7 runs, 1,000 loops each)\n"
     ]
    }
   ],
   "source": [
    "%%timeit\n",
    "bsg.call_theta(S, K, T, r, sigma)"
   ]
  },
  {
   "cell_type": "code",
   "execution_count": 67,
   "id": "accompanied-freeware",
   "metadata": {
    "execution": {
     "iopub.execute_input": "2022-12-21T20:30:36.148419Z",
     "iopub.status.busy": "2022-12-21T20:30:36.147663Z",
     "iopub.status.idle": "2022-12-21T20:30:36.151532Z",
     "shell.execute_reply": "2022-12-21T20:30:36.150861Z",
     "shell.execute_reply.started": "2021-11-18T14:37:48.176661Z"
    },
    "papermill": {
     "duration": 0.117007,
     "end_time": "2022-12-21T20:30:36.151697",
     "exception": false,
     "start_time": "2022-12-21T20:30:36.034690",
     "status": "completed"
    },
    "tags": []
   },
   "outputs": [
    {
     "data": {
      "text/plain": [
       "-2.917805075810147"
      ]
     },
     "execution_count": 67,
     "metadata": {},
     "output_type": "execute_result"
    }
   ],
   "source": [
    "fast_theta(S, K, T, r, sigma)"
   ]
  },
  {
   "cell_type": "code",
   "execution_count": 68,
   "id": "seasonal-delight",
   "metadata": {
    "execution": {
     "iopub.execute_input": "2022-12-21T20:30:36.380232Z",
     "iopub.status.busy": "2022-12-21T20:30:36.379429Z",
     "iopub.status.idle": "2022-12-21T20:30:47.813688Z",
     "shell.execute_reply": "2022-12-21T20:30:47.813124Z",
     "shell.execute_reply.started": "2021-11-18T14:37:48.185978Z"
    },
    "papermill": {
     "duration": 11.553405,
     "end_time": "2022-12-21T20:30:47.813873",
     "exception": false,
     "start_time": "2022-12-21T20:30:36.260468",
     "status": "completed"
    },
    "tags": []
   },
   "outputs": [
    {
     "name": "stdout",
     "output_type": "stream",
     "text": [
      "120 µs ± 3.98 µs per loop (mean ± std. dev. of 7 runs, 10,000 loops each)\n"
     ]
    }
   ],
   "source": [
    "%%timeit\n",
    "fast_theta(S, K, T, r, sigma)"
   ]
  },
  {
   "cell_type": "markdown",
   "id": "hourly-content",
   "metadata": {
    "papermill": {
     "duration": 0.109127,
     "end_time": "2022-12-21T20:30:48.032347",
     "exception": false,
     "start_time": "2022-12-21T20:30:47.923220",
     "status": "completed"
    },
    "tags": []
   },
   "source": [
    "### 2. norm._pdf"
   ]
  },
  {
   "cell_type": "markdown",
   "id": "major-formula",
   "metadata": {
    "papermill": {
     "duration": 0.109463,
     "end_time": "2022-12-21T20:30:48.251893",
     "exception": false,
     "start_time": "2022-12-21T20:30:48.142430",
     "status": "completed"
    },
    "tags": []
   },
   "source": [
    "Voilà! An almost 2x speedup. Now we can further speed it up by replacing norm.pdf by norm._pdf. Note that this skips a few checks and we have to take care that our input variables are valid."
   ]
  },
  {
   "cell_type": "code",
   "execution_count": 69,
   "id": "intellectual-jersey",
   "metadata": {
    "execution": {
     "iopub.execute_input": "2022-12-21T20:30:48.481710Z",
     "iopub.status.busy": "2022-12-21T20:30:48.480630Z",
     "iopub.status.idle": "2022-12-21T20:30:48.483077Z",
     "shell.execute_reply": "2022-12-21T20:30:48.483641Z",
     "shell.execute_reply.started": "2021-11-18T14:38:01.475029Z"
    },
    "papermill": {
     "duration": 0.117502,
     "end_time": "2022-12-21T20:30:48.483852",
     "exception": false,
     "start_time": "2022-12-21T20:30:48.366350",
     "status": "completed"
    },
    "tags": []
   },
   "outputs": [],
   "source": [
    "def faster_theta(S, K, T, r, sigma):\n",
    "    d1 = _d1(S, K, T, r, sigma)\n",
    "    d2 = _d2(S, K, T, r, sigma)\n",
    "    return - ((S * norm._pdf(d1) * sigma) / (2 * np.sqrt(T))) - r * K * np.exp(-r*T) * ndtr(d2)"
   ]
  },
  {
   "cell_type": "code",
   "execution_count": 70,
   "id": "prospective-immigration",
   "metadata": {
    "execution": {
     "iopub.execute_input": "2022-12-21T20:30:48.714751Z",
     "iopub.status.busy": "2022-12-21T20:30:48.713909Z",
     "iopub.status.idle": "2022-12-21T20:30:48.717980Z",
     "shell.execute_reply": "2022-12-21T20:30:48.717444Z",
     "shell.execute_reply.started": "2021-11-18T14:38:01.484612Z"
    },
    "papermill": {
     "duration": 0.118246,
     "end_time": "2022-12-21T20:30:48.718133",
     "exception": false,
     "start_time": "2022-12-21T20:30:48.599887",
     "status": "completed"
    },
    "tags": []
   },
   "outputs": [
    {
     "data": {
      "text/plain": [
       "-2.917805075810147"
      ]
     },
     "execution_count": 70,
     "metadata": {},
     "output_type": "execute_result"
    }
   ],
   "source": [
    "faster_theta(S, K, T, r, sigma)"
   ]
  },
  {
   "cell_type": "code",
   "execution_count": 71,
   "id": "graphic-assist",
   "metadata": {
    "execution": {
     "iopub.execute_input": "2022-12-21T20:30:48.939681Z",
     "iopub.status.busy": "2022-12-21T20:30:48.938893Z",
     "iopub.status.idle": "2022-12-21T20:31:02.850628Z",
     "shell.execute_reply": "2022-12-21T20:31:02.851152Z",
     "shell.execute_reply.started": "2021-11-18T14:38:01.498813Z"
    },
    "papermill": {
     "duration": 14.02415,
     "end_time": "2022-12-21T20:31:02.851361",
     "exception": false,
     "start_time": "2022-12-21T20:30:48.827211",
     "status": "completed"
    },
    "tags": []
   },
   "outputs": [
    {
     "name": "stdout",
     "output_type": "stream",
     "text": [
      "17.6 µs ± 1.95 µs per loop (mean ± std. dev. of 7 runs, 100,000 loops each)\n"
     ]
    }
   ],
   "source": [
    "%%timeit\n",
    "faster_theta(S, K, T, r, sigma)"
   ]
  },
  {
   "cell_type": "markdown",
   "id": "delayed-census",
   "metadata": {
    "papermill": {
     "duration": 0.109309,
     "end_time": "2022-12-21T20:31:03.071611",
     "exception": false,
     "start_time": "2022-12-21T20:31:02.962302",
     "status": "completed"
    },
    "tags": []
   },
   "source": [
    "### 3. JIT compilation with Numba"
   ]
  },
  {
   "cell_type": "markdown",
   "id": "pleased-ensemble",
   "metadata": {
    "papermill": {
     "duration": 0.107772,
     "end_time": "2022-12-21T20:31:03.288712",
     "exception": false,
     "start_time": "2022-12-21T20:31:03.180940",
     "status": "completed"
    },
    "tags": []
   },
   "source": [
    "An substantial speedup! Now for the nerds who have not fallen asleep yet, we can go one step further to compute this thing in a few hundred nanoseconds. Note that we use a lot of NumPy function and basic operations in our calculation. Therefore, we can leverage [just in time (JIT) compilation with Numba](http://numba.pydata.org/) to speed up the computation. This requires us to reimplement the Scipy functions from scratch."
   ]
  },
  {
   "cell_type": "code",
   "execution_count": 72,
   "id": "injured-pierce",
   "metadata": {
    "execution": {
     "iopub.execute_input": "2022-12-21T20:31:03.516675Z",
     "iopub.status.busy": "2022-12-21T20:31:03.515731Z",
     "iopub.status.idle": "2022-12-21T20:31:04.669322Z",
     "shell.execute_reply": "2022-12-21T20:31:04.669895Z",
     "shell.execute_reply.started": "2021-11-18T14:38:03.780117Z"
    },
    "papermill": {
     "duration": 1.273199,
     "end_time": "2022-12-21T20:31:04.670098",
     "exception": false,
     "start_time": "2022-12-21T20:31:03.396899",
     "status": "completed"
    },
    "tags": []
   },
   "outputs": [],
   "source": [
    "from math import erf\n",
    "from numba import jit\n",
    "\n",
    "@jit\n",
    "def pdf_phi(x):\n",
    "    \"\"\" PDF of standard normal distribution \"\"\"\n",
    "    return np.exp(-x**2/2) / np.sqrt(2*np.pi)\n",
    "\n",
    "@jit\n",
    "def cdf_phi(x):\n",
    "    \"\"\" CDF of standard normal distribution \"\"\"\n",
    "    return (1. + erf(x / np.sqrt(2.))) / 2.\n",
    "\n",
    "@jit\n",
    "def _d1(S, K, T, r, sigma):\n",
    "    return (1 / (sigma * np.sqrt(T))) * (np.log(S/K) + (r + sigma**2 / 2) * T)\n",
    "    \n",
    "@jit\n",
    "def _d2(S, K, T, r, sigma):\n",
    "    return _d1(S, K, T, r, sigma) - sigma * np.sqrt(T)\n",
    "\n",
    "@jit\n",
    "def faster_theta_jit(S, K, T, r, sigma):\n",
    "    d1 = _d1(S, K, T, r, sigma)\n",
    "    d2 = _d2(S, K, T, r, sigma)\n",
    "    return - ((S * pdf_phi(d1) * sigma) / (2 * np.sqrt(T))) - r * K * np.exp(-r*T) * cdf_phi(d2)"
   ]
  },
  {
   "cell_type": "code",
   "execution_count": 73,
   "id": "durable-landscape",
   "metadata": {
    "execution": {
     "iopub.execute_input": "2022-12-21T20:31:04.902992Z",
     "iopub.status.busy": "2022-12-21T20:31:04.901976Z",
     "iopub.status.idle": "2022-12-21T20:31:05.781062Z",
     "shell.execute_reply": "2022-12-21T20:31:05.780443Z",
     "shell.execute_reply.started": "2021-11-18T14:38:04.608639Z"
    },
    "papermill": {
     "duration": 0.995689,
     "end_time": "2022-12-21T20:31:05.781242",
     "exception": false,
     "start_time": "2022-12-21T20:31:04.785553",
     "status": "completed"
    },
    "tags": []
   },
   "outputs": [
    {
     "data": {
      "text/plain": [
       "-2.917805075810147"
      ]
     },
     "execution_count": 73,
     "metadata": {},
     "output_type": "execute_result"
    }
   ],
   "source": [
    "faster_theta_jit(S, K, T, r, sigma)"
   ]
  },
  {
   "cell_type": "code",
   "execution_count": 74,
   "id": "floating-circular",
   "metadata": {
    "execution": {
     "iopub.execute_input": "2022-12-21T20:31:06.011663Z",
     "iopub.status.busy": "2022-12-21T20:31:06.010917Z",
     "iopub.status.idle": "2022-12-21T20:31:11.054739Z",
     "shell.execute_reply": "2022-12-21T20:31:11.054156Z",
     "shell.execute_reply.started": "2021-11-18T14:38:05.597059Z"
    },
    "papermill": {
     "duration": 5.163532,
     "end_time": "2022-12-21T20:31:11.054927",
     "exception": false,
     "start_time": "2022-12-21T20:31:05.891395",
     "status": "completed"
    },
    "tags": []
   },
   "outputs": [
    {
     "name": "stdout",
     "output_type": "stream",
     "text": [
      "663 ns ± 95.7 ns per loop (mean ± std. dev. of 7 runs, 1,000,000 loops each)\n"
     ]
    }
   ],
   "source": [
    "%%timeit\n",
    "faster_theta_jit(S, K, T, r, sigma)"
   ]
  },
  {
   "cell_type": "markdown",
   "id": "sharing-adapter",
   "metadata": {
    "papermill": {
     "duration": 0.112441,
     "end_time": "2022-12-21T20:31:11.281189",
     "exception": false,
     "start_time": "2022-12-21T20:31:11.168748",
     "status": "completed"
    },
    "tags": []
   },
   "source": [
    "And that is one last 35x speedup over the last version! Most functions that feature basic operations or a lot of NumPy can be transformed with JIT compilation, but the speedup may not be that large in some cases."
   ]
  },
  {
   "cell_type": "markdown",
   "id": "opened-prize",
   "metadata": {
    "papermill": {
     "duration": 0.113483,
     "end_time": "2022-12-21T20:31:11.508186",
     "exception": false,
     "start_time": "2022-12-21T20:31:11.394703",
     "status": "completed"
    },
    "tags": []
   },
   "source": [
    "## Follow-ups"
   ]
  },
  {
   "cell_type": "markdown",
   "id": "wrong-borough",
   "metadata": {
    "papermill": {
     "duration": 0.109053,
     "end_time": "2022-12-21T20:31:11.726633",
     "exception": false,
     "start_time": "2022-12-21T20:31:11.617580",
     "status": "completed"
    },
    "tags": []
   },
   "source": [
    "If you are interested in learning more about quantitative finance, here are some resources I would recommend you check out."
   ]
  },
  {
   "cell_type": "markdown",
   "id": "aggregate-dressing",
   "metadata": {
    "papermill": {
     "duration": 0.108861,
     "end_time": "2022-12-21T20:31:11.944540",
     "exception": false,
     "start_time": "2022-12-21T20:31:11.835679",
     "status": "completed"
    },
    "tags": []
   },
   "source": [
    "### Video material"
   ]
  },
  {
   "cell_type": "markdown",
   "id": "hawaiian-spiritual",
   "metadata": {
    "papermill": {
     "duration": 0.109287,
     "end_time": "2022-12-21T20:31:12.163591",
     "exception": false,
     "start_time": "2022-12-21T20:31:12.054304",
     "status": "completed"
    },
    "tags": []
   },
   "source": [
    "[Patrick Boyle On Finance (Video playlists on Financial Mathematics and awesome finance channel in general)](https://www.youtube.com/c/PatrickBoyleOnFinance)\n",
    "\n",
    "[Quantatative Risk Management course by Pasquale Cirillo](https://www.youtube.com/c/PatrickBoyleOnFinance)"
   ]
  },
  {
   "cell_type": "markdown",
   "id": "departmental-cheat",
   "metadata": {
    "papermill": {
     "duration": 0.108898,
     "end_time": "2022-12-21T20:31:12.383042",
     "exception": false,
     "start_time": "2022-12-21T20:31:12.274144",
     "status": "completed"
    },
    "tags": []
   },
   "source": [
    "### Books"
   ]
  },
  {
   "cell_type": "markdown",
   "id": "english-russia",
   "metadata": {
    "papermill": {
     "duration": 0.109547,
     "end_time": "2022-12-21T20:31:12.654507",
     "exception": false,
     "start_time": "2022-12-21T20:31:12.544960",
     "status": "completed"
    },
    "tags": []
   },
   "source": [
    "**Textbooks:**\n",
    "\n",
    "Investment Science - David Luenberger\n",
    "\n",
    "[Python for Finance - Yves Hilpisch](https://www.oreilly.com/library/view/python-for-finance/9781492024323/)\n",
    "\n",
    "**(Auto)biographies:**\n",
    "\n",
    "My life as a quant - Emanuel Derman\n",
    "\n",
    "A Man For All Markets: From Las Vegas to Wall Street, How I Beat the Dealer and the Market - Edward Thorp\n",
    "\n",
    "The Man Who Solved The Market: How Jim Simons Launched the Quant Revolution - Gregory Zuckerman"
   ]
  },
  {
   "cell_type": "markdown",
   "id": "intermediate-sociology",
   "metadata": {
    "papermill": {
     "duration": 0.116562,
     "end_time": "2022-12-21T20:31:12.882148",
     "exception": false,
     "start_time": "2022-12-21T20:31:12.765586",
     "status": "completed"
    },
    "tags": []
   },
   "source": [
    "## Courses"
   ]
  },
  {
   "cell_type": "markdown",
   "id": "romantic-union",
   "metadata": {
    "papermill": {
     "duration": 0.111661,
     "end_time": "2022-12-21T20:31:13.104757",
     "exception": false,
     "start_time": "2022-12-21T20:31:12.993096",
     "status": "completed"
    },
    "tags": []
   },
   "source": [
    "[Udacity - Machine Learning for Trading](https://www.udacity.com/course/machine-learning-for-trading--ud501)\n",
    "\n",
    "[Udacity - Artifial Intelligence for trading (paid Nanodegree program)](https://www.udacity.com/course/ai-for-trading--nd880)"
   ]
  },
  {
   "cell_type": "markdown",
   "id": "clinical-basin",
   "metadata": {
    "papermill": {
     "duration": 0.110438,
     "end_time": "2022-12-21T20:31:13.326142",
     "exception": false,
     "start_time": "2022-12-21T20:31:13.215704",
     "status": "completed"
    },
    "tags": []
   },
   "source": [
    "And don't forget:"
   ]
  },
  {
   "cell_type": "markdown",
   "id": "listed-stevens",
   "metadata": {
    "papermill": {
     "duration": 0.108845,
     "end_time": "2022-12-21T20:31:13.544139",
     "exception": false,
     "start_time": "2022-12-21T20:31:13.435294",
     "status": "completed"
    },
    "tags": []
   },
   "source": [
    "![](https://i.pinimg.com/originals/07/48/40/07484051f93b50545e090eb302f6adc2.jpg)"
   ]
  },
  {
   "cell_type": "markdown",
   "id": "floral-garage",
   "metadata": {
    "papermill": {
     "duration": 0.111368,
     "end_time": "2022-12-21T20:31:13.765931",
     "exception": false,
     "start_time": "2022-12-21T20:31:13.654563",
     "status": "completed"
    },
    "tags": []
   },
   "source": [
    "That's it! I hope this notebook gave you a clear overview of core concepts in financial mathematics and quantitative finance!\n",
    "\n",
    "If you have any questions or feedback, feel free to comment and/or upvote the notebook below. You can also contact me on Twitter [@carlolepelaars](https://twitter.com/carlolepelaars).\n",
    "\n",
    "Oh, and give the [blackscholes](https://github.com/CarloLepelaars/blackscholes) library a start on Github. I will be implementing option-related functionality this is discussed in this notebook. [blackscholes](https://github.com/CarloLepelaars/blackscholes) also has clear documentation and tests for each component."
   ]
  }
 ],
 "metadata": {
  "kernelspec": {
   "display_name": "Python 3 (ipykernel)",
   "language": "python",
   "name": "python3"
  },
  "language_info": {
   "codemirror_mode": {
    "name": "ipython",
    "version": 3
   },
   "file_extension": ".py",
   "mimetype": "text/x-python",
   "name": "python",
   "nbconvert_exporter": "python",
   "pygments_lexer": "ipython3",
   "version": "3.9.12"
  },
  "papermill": {
   "default_parameters": {},
   "duration": 83.324784,
   "end_time": "2022-12-21T20:31:15.738139",
   "environment_variables": {},
   "exception": null,
   "input_path": "__notebook__.ipynb",
   "output_path": "__notebook__.ipynb",
   "parameters": {},
   "start_time": "2022-12-21T20:29:52.413355",
   "version": "2.3.3"
  }
 },
 "nbformat": 4,
 "nbformat_minor": 5
}
